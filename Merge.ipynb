{
 "cells": [
  {
   "cell_type": "code",
   "execution_count": 172,
   "metadata": {},
   "outputs": [],
   "source": [
    "import pandas as pd\n",
    "import numpy as np\n",
    "import scanpy as sc\n",
    "import requests\n",
    "import json\n",
    "import os, sys\n",
    "sys.path.append('/home/fvalle/phd/master_thesis/hsbm/')"
   ]
  },
  {
   "cell_type": "markdown",
   "metadata": {},
   "source": [
    "# Download data"
   ]
  },
  {
   "cell_type": "code",
   "execution_count": 2,
   "metadata": {},
   "outputs": [],
   "source": [
    "#path/to/files/downloaded/from https://doi.org/10.6084/m9.figshare.5330593\n",
    "working_dir = \"/home/fvalle/phd/datasets/merged/\"\n",
    "os.chdir(working_dir)"
   ]
  },
  {
   "cell_type": "code",
   "execution_count": 52,
   "metadata": {},
   "outputs": [],
   "source": [
    "files = [f for f in os.listdir(\"data\") if \"fpkm\" in f]"
   ]
  },
  {
   "cell_type": "code",
   "execution_count": 63,
   "metadata": {},
   "outputs": [],
   "source": [
    "df_gtex=pd.read_csv(\"https://storage.googleapis.com/gtex_analysis_v8/annotations/GTEx_Analysis_v8_Annotations_SampleAttributesDS.txt\", sep='\\t', index_col=0)"
   ]
  },
  {
   "cell_type": "code",
   "execution_count": 57,
   "metadata": {},
   "outputs": [],
   "source": [
    "filters = {\n",
    "    \"op\": \"and\",\n",
    "    \"content\":[\n",
    "        {\n",
    "        \"op\": \"in\",\n",
    "        \"content\":{\n",
    "            \"field\": \"cases.project.program.name\",\n",
    "            \"value\": [\"TCGA\"]\n",
    "            }\n",
    "        }\n",
    "        \n",
    "    ]\n",
    "}\n",
    "params = {\n",
    "    \"filters\": json.dumps(filters),\n",
    "    \"fields\": \"primary_site,disease_type,submitter_id\",\n",
    "    \"format\": \"TSV\",\n",
    "    \"size\": \"10000000\"\n",
    "    }\n",
    "response = requests.get(\"https://api.gdc.cancer.gov/cases\", headers = {\"Content-Type\": \"application/json\"}, params = params)\n",
    "with open(\"files.txt\",\"w\") as file:\n",
    "    file.write(response.content.decode(\"utf-8\"))\n",
    "    file.close()\n",
    "df_tcga = pd.read_csv(\"files.txt\", sep='\\t').set_index(\"submitter_id\")"
   ]
  },
  {
   "cell_type": "code",
   "execution_count": 58,
   "metadata": {},
   "outputs": [],
   "source": [
    "df=pd.DataFrame()"
   ]
  },
  {
   "cell_type": "code",
   "execution_count": 59,
   "metadata": {},
   "outputs": [],
   "source": [
    "for file in files:\n",
    "    df = df.append(pd.read_csv(\"data/%s\"%file, sep='\\t', index_col=0).drop('Entrez_Gene_Id',1).transpose(), sort=True)\n",
    "df = df.transpose()\n",
    "df = df.dropna(how='any', axis=0) # drop genes not always determined"
   ]
  },
  {
   "cell_type": "code",
   "execution_count": 60,
   "metadata": {},
   "outputs": [],
   "source": [
    "df_files = pd.DataFrame(index=df.columns)"
   ]
  },
  {
   "cell_type": "code",
   "execution_count": 85,
   "metadata": {},
   "outputs": [],
   "source": [
    "def get_site(file):\n",
    "    if 'GTEX' in file:\n",
    "        return df_gtex.at[file, 'SMTS']\n",
    "    if 'TCGA' in file:\n",
    "        return df_tcga.at[file[:12],'primary_site']\n",
    "\n",
    "def get_source(file):\n",
    "    if 'GTEX' in file:\n",
    "        return 'gtex'\n",
    "    if 'TCGA' in file:\n",
    "        return 'tcga'"
   ]
  },
  {
   "cell_type": "code",
   "execution_count": 64,
   "metadata": {},
   "outputs": [],
   "source": [
    "df_files.insert(0, 'primary_site', [get_site(file) for file in df.columns])\n",
    "df_files.insert(1, 'dataset', [get_source(file) for file in df.columns])"
   ]
  },
  {
   "cell_type": "code",
   "execution_count": 65,
   "metadata": {},
   "outputs": [],
   "source": [
    "df.to_csv(\"mainTable.csv\", index=True, header=True)\n",
    "df_files.to_csv(\"files.dat\", index=True, header=True)"
   ]
  },
  {
   "cell_type": "markdown",
   "metadata": {},
   "source": [
    "## Split / shuffle and select"
   ]
  },
  {
   "cell_type": "code",
   "execution_count": 66,
   "metadata": {},
   "outputs": [
    {
     "data": {
      "text/html": [
       "<div>\n",
       "<style scoped>\n",
       "    .dataframe tbody tr th:only-of-type {\n",
       "        vertical-align: middle;\n",
       "    }\n",
       "\n",
       "    .dataframe tbody tr th {\n",
       "        vertical-align: top;\n",
       "    }\n",
       "\n",
       "    .dataframe thead th {\n",
       "        text-align: right;\n",
       "    }\n",
       "</style>\n",
       "<table border=\"1\" class=\"dataframe\">\n",
       "  <thead>\n",
       "    <tr style=\"text-align: right;\">\n",
       "      <th></th>\n",
       "      <th>TCGA-E8-A2JQ-11A-11R-A180-07</th>\n",
       "      <th>TCGA-EL-A3ZK-11A-11R-A23N-07</th>\n",
       "      <th>TCGA-BJ-A28X-11A-11R-A22L-07</th>\n",
       "      <th>TCGA-BJ-A28R-11A-11R-A16R-07</th>\n",
       "      <th>TCGA-EL-A3T8-11A-11R-A22L-07</th>\n",
       "      <th>TCGA-EL-A3ZL-11A-11R-A23N-07</th>\n",
       "      <th>TCGA-EL-A3TA-11A-12R-A22L-07</th>\n",
       "      <th>TCGA-FY-A3TY-11A-12R-A22U-07</th>\n",
       "      <th>TCGA-EL-A3MY-11A-12R-A21D-07</th>\n",
       "      <th>TCGA-EL-A3T6-11A-11R-A220-07</th>\n",
       "      <th>...</th>\n",
       "      <th>TCGA-AA-3662-11A-01R-1723-07</th>\n",
       "      <th>TCGA-AA-3516-11A-01R-A32Z-07</th>\n",
       "      <th>TCGA-A6-5662-11A-01R-1653-07</th>\n",
       "      <th>TCGA-AA-3527-11A-01R-A32Z-07</th>\n",
       "      <th>TCGA-AA-3655-11A-01R-1723-07</th>\n",
       "      <th>TCGA-A6-2680-11A-01R-A32Z-07</th>\n",
       "      <th>TCGA-AA-3489-11A-01R-1839-07</th>\n",
       "      <th>TCGA-F4-6704-11A-01R-1839-07</th>\n",
       "      <th>TCGA-AA-3660-11A-01R-1723-07</th>\n",
       "      <th>TCGA-AA-3534-11A-01R-A32Z-07</th>\n",
       "    </tr>\n",
       "  </thead>\n",
       "  <tbody>\n",
       "    <tr>\n",
       "      <th>A1BG</th>\n",
       "      <td>373.81</td>\n",
       "      <td>429.54</td>\n",
       "      <td>435.55</td>\n",
       "      <td>463.65</td>\n",
       "      <td>460.44</td>\n",
       "      <td>265.87</td>\n",
       "      <td>151.22</td>\n",
       "      <td>159.90</td>\n",
       "      <td>373.81</td>\n",
       "      <td>733.19</td>\n",
       "      <td>...</td>\n",
       "      <td>327.56</td>\n",
       "      <td>271.48</td>\n",
       "      <td>136.19</td>\n",
       "      <td>155.5</td>\n",
       "      <td>353.59</td>\n",
       "      <td>80.57</td>\n",
       "      <td>262.20</td>\n",
       "      <td>87.65</td>\n",
       "      <td>325.29</td>\n",
       "      <td>198.47</td>\n",
       "    </tr>\n",
       "    <tr>\n",
       "      <th>A2M</th>\n",
       "      <td>7966.99</td>\n",
       "      <td>6121.90</td>\n",
       "      <td>7280.40</td>\n",
       "      <td>5995.90</td>\n",
       "      <td>4066.71</td>\n",
       "      <td>4123.49</td>\n",
       "      <td>3190.46</td>\n",
       "      <td>3874.05</td>\n",
       "      <td>5954.47</td>\n",
       "      <td>3768.09</td>\n",
       "      <td>...</td>\n",
       "      <td>5751.61</td>\n",
       "      <td>5751.61</td>\n",
       "      <td>7331.05</td>\n",
       "      <td>5594.3</td>\n",
       "      <td>3665.02</td>\n",
       "      <td>4328.55</td>\n",
       "      <td>4903.87</td>\n",
       "      <td>6381.92</td>\n",
       "      <td>3235.01</td>\n",
       "      <td>7749.10</td>\n",
       "    </tr>\n",
       "    <tr>\n",
       "      <th>A2ML1</th>\n",
       "      <td>0.74</td>\n",
       "      <td>0.73</td>\n",
       "      <td>1.75</td>\n",
       "      <td>0.00</td>\n",
       "      <td>0.71</td>\n",
       "      <td>1.68</td>\n",
       "      <td>1.64</td>\n",
       "      <td>3.69</td>\n",
       "      <td>1.22</td>\n",
       "      <td>2.78</td>\n",
       "      <td>...</td>\n",
       "      <td>1.55</td>\n",
       "      <td>0.00</td>\n",
       "      <td>0.00</td>\n",
       "      <td>0.0</td>\n",
       "      <td>1.53</td>\n",
       "      <td>0.00</td>\n",
       "      <td>0.00</td>\n",
       "      <td>3.82</td>\n",
       "      <td>0.00</td>\n",
       "      <td>0.00</td>\n",
       "    </tr>\n",
       "    <tr>\n",
       "      <th>A4GALT</th>\n",
       "      <td>493.56</td>\n",
       "      <td>277.20</td>\n",
       "      <td>371.22</td>\n",
       "      <td>323.03</td>\n",
       "      <td>379.04</td>\n",
       "      <td>314.17</td>\n",
       "      <td>234.57</td>\n",
       "      <td>336.79</td>\n",
       "      <td>476.71</td>\n",
       "      <td>348.71</td>\n",
       "      <td>...</td>\n",
       "      <td>343.89</td>\n",
       "      <td>193.01</td>\n",
       "      <td>480.04</td>\n",
       "      <td>248.0</td>\n",
       "      <td>320.80</td>\n",
       "      <td>277.20</td>\n",
       "      <td>470.14</td>\n",
       "      <td>397.93</td>\n",
       "      <td>217.27</td>\n",
       "      <td>241.19</td>\n",
       "    </tr>\n",
       "    <tr>\n",
       "      <th>A4GNT</th>\n",
       "      <td>1.28</td>\n",
       "      <td>1.27</td>\n",
       "      <td>4.10</td>\n",
       "      <td>1.30</td>\n",
       "      <td>3.92</td>\n",
       "      <td>7.82</td>\n",
       "      <td>1.16</td>\n",
       "      <td>11.38</td>\n",
       "      <td>0.64</td>\n",
       "      <td>1.87</td>\n",
       "      <td>...</td>\n",
       "      <td>0.00</td>\n",
       "      <td>0.00</td>\n",
       "      <td>0.00</td>\n",
       "      <td>0.0</td>\n",
       "      <td>0.00</td>\n",
       "      <td>1.08</td>\n",
       "      <td>0.00</td>\n",
       "      <td>0.00</td>\n",
       "      <td>0.00</td>\n",
       "      <td>0.00</td>\n",
       "    </tr>\n",
       "  </tbody>\n",
       "</table>\n",
       "<p>5 rows × 9147 columns</p>\n",
       "</div>"
      ],
      "text/plain": [
       "        TCGA-E8-A2JQ-11A-11R-A180-07  TCGA-EL-A3ZK-11A-11R-A23N-07  \\\n",
       "A1BG                          373.81                        429.54   \n",
       "A2M                          7966.99                       6121.90   \n",
       "A2ML1                           0.74                          0.73   \n",
       "A4GALT                        493.56                        277.20   \n",
       "A4GNT                           1.28                          1.27   \n",
       "\n",
       "        TCGA-BJ-A28X-11A-11R-A22L-07  TCGA-BJ-A28R-11A-11R-A16R-07  \\\n",
       "A1BG                          435.55                        463.65   \n",
       "A2M                          7280.40                       5995.90   \n",
       "A2ML1                           1.75                          0.00   \n",
       "A4GALT                        371.22                        323.03   \n",
       "A4GNT                           4.10                          1.30   \n",
       "\n",
       "        TCGA-EL-A3T8-11A-11R-A22L-07  TCGA-EL-A3ZL-11A-11R-A23N-07  \\\n",
       "A1BG                          460.44                        265.87   \n",
       "A2M                          4066.71                       4123.49   \n",
       "A2ML1                           0.71                          1.68   \n",
       "A4GALT                        379.04                        314.17   \n",
       "A4GNT                           3.92                          7.82   \n",
       "\n",
       "        TCGA-EL-A3TA-11A-12R-A22L-07  TCGA-FY-A3TY-11A-12R-A22U-07  \\\n",
       "A1BG                          151.22                        159.90   \n",
       "A2M                          3190.46                       3874.05   \n",
       "A2ML1                           1.64                          3.69   \n",
       "A4GALT                        234.57                        336.79   \n",
       "A4GNT                           1.16                         11.38   \n",
       "\n",
       "        TCGA-EL-A3MY-11A-12R-A21D-07  TCGA-EL-A3T6-11A-11R-A220-07  ...  \\\n",
       "A1BG                          373.81                        733.19  ...   \n",
       "A2M                          5954.47                       3768.09  ...   \n",
       "A2ML1                           1.22                          2.78  ...   \n",
       "A4GALT                        476.71                        348.71  ...   \n",
       "A4GNT                           0.64                          1.87  ...   \n",
       "\n",
       "        TCGA-AA-3662-11A-01R-1723-07  TCGA-AA-3516-11A-01R-A32Z-07  \\\n",
       "A1BG                          327.56                        271.48   \n",
       "A2M                          5751.61                       5751.61   \n",
       "A2ML1                           1.55                          0.00   \n",
       "A4GALT                        343.89                        193.01   \n",
       "A4GNT                           0.00                          0.00   \n",
       "\n",
       "        TCGA-A6-5662-11A-01R-1653-07  TCGA-AA-3527-11A-01R-A32Z-07  \\\n",
       "A1BG                          136.19                         155.5   \n",
       "A2M                          7331.05                        5594.3   \n",
       "A2ML1                           0.00                           0.0   \n",
       "A4GALT                        480.04                         248.0   \n",
       "A4GNT                           0.00                           0.0   \n",
       "\n",
       "        TCGA-AA-3655-11A-01R-1723-07  TCGA-A6-2680-11A-01R-A32Z-07  \\\n",
       "A1BG                          353.59                         80.57   \n",
       "A2M                          3665.02                       4328.55   \n",
       "A2ML1                           1.53                          0.00   \n",
       "A4GALT                        320.80                        277.20   \n",
       "A4GNT                           0.00                          1.08   \n",
       "\n",
       "        TCGA-AA-3489-11A-01R-1839-07  TCGA-F4-6704-11A-01R-1839-07  \\\n",
       "A1BG                          262.20                         87.65   \n",
       "A2M                          4903.87                       6381.92   \n",
       "A2ML1                           0.00                          3.82   \n",
       "A4GALT                        470.14                        397.93   \n",
       "A4GNT                           0.00                          0.00   \n",
       "\n",
       "        TCGA-AA-3660-11A-01R-1723-07  TCGA-AA-3534-11A-01R-A32Z-07  \n",
       "A1BG                          325.29                        198.47  \n",
       "A2M                          3235.01                       7749.10  \n",
       "A2ML1                           0.00                          0.00  \n",
       "A4GALT                        217.27                        241.19  \n",
       "A4GNT                           0.00                          0.00  \n",
       "\n",
       "[5 rows x 9147 columns]"
      ]
     },
     "execution_count": 66,
     "metadata": {},
     "output_type": "execute_result"
    }
   ],
   "source": [
    "df = pd.read_csv(\"mainTable.csv\", index_col=0)\n",
    "df_files = pd.read_csv(\"files.dat\", index_col=0)\n",
    "df.head()"
   ]
  },
  {
   "cell_type": "code",
   "execution_count": 88,
   "metadata": {},
   "outputs": [
    {
     "data": {
      "text/plain": [
       "array(['Thyroid', 'Prostate', 'Rectosigmoid junction', 'Rectum',\n",
       "       'Connective, subcutaneous and other soft tissues', 'Colon',\n",
       "       'Esophagus', 'Salivary Gland',\n",
       "       'Other and unspecified parts of tongue', 'Base of tongue',\n",
       "       'Kidney', 'Liver', 'Gallbladder',\n",
       "       'Other and unspecified parts of biliary tract', 'Lung',\n",
       "       'Corpus uteri', 'Stomach', 'Breast', 'Uterus', 'Cervix Uteri',\n",
       "       'Bladder', 'Cervix uteri', 'Tonsil', 'Palate'], dtype=object)"
      ]
     },
     "execution_count": 88,
     "metadata": {},
     "output_type": "execute_result"
    }
   ],
   "source": [
    "df_files.replace('Uterus, NOS', 'Uterus', inplace=True)\n",
    "df_files.replace('Bronchus and lung', 'Lung', inplace=True)\n",
    "df_files.replace('Liver and intrahepatic bile ducts', 'Liver', inplace=True)\n",
    "df_files.replace('Prostate gland', 'Prostate', inplace=True)\n",
    "df_files.replace('Thyroid gland', 'Thyroid', inplace=True)\n",
    "df_files.replace('Base of Tongue', 'Salivary Gland', inplace=True)\n",
    "df_files.replace('Bones, joints and articular cartilage of other and unspecified sites', 'Salivary Gland', inplace=True)\n",
    "df_files.replace('Floor of mouth', 'Salivary Gland', inplace=True)\n",
    "df_files.replace('Gum', 'Salivary Gland', inplace=True)\n",
    "df_files.replace('Hypopharynx', 'Salivary Gland', inplace=True)\n",
    "df_files.replace('Larynx', 'Salivary Gland', inplace=True)\n",
    "df_files.replace('Lip', 'Salivary Gland', inplace=True)\n",
    "df_files.replace('Oropharynx', 'Salivary Gland', inplace=True)\n",
    "df_files.replace('Other and ill-defined sites in lip, oral cavity and pharynx', 'Salivary Gland', inplace=True)\n",
    "df_files.replace('Other and unspecified parts of mouth', 'Salivary Gland', inplace=True)\n",
    "df_files['primary_site'].unique()"
   ]
  },
  {
   "cell_type": "code",
   "execution_count": 89,
   "metadata": {},
   "outputs": [],
   "source": [
    "#https://www.ncbi.nlm.nih.gov/pmc/articles/PMC5903355/\n",
    "sites_with_enough_statistics = ['Breast', 'Colon', 'Liver', 'Esophagus', 'Prostate', 'Stomach', 'Thyroid', 'Lung', 'Uterus', 'Salivary Gland']"
   ]
  },
  {
   "cell_type": "code",
   "execution_count": 121,
   "metadata": {},
   "outputs": [],
   "source": [
    "rs = np.random.RandomState(seed=42)\n",
    "samples = pd.DataFrame(columns=df_files.columns)\n",
    "for site in sites_with_enough_statistics:\n",
    "    samples = samples.append(df_files[(df_files['primary_site']==site) & (df_files['dataset']=='tcga')].sample(50, random_state=rs))\n",
    "    samples = samples.append(df_files[(df_files['primary_site']==site) & (df_files['dataset']=='gtex')].sample(50, random_state=rs))"
   ]
  },
  {
   "cell_type": "code",
   "execution_count": 126,
   "metadata": {},
   "outputs": [
    {
     "data": {
      "text/html": [
       "<div>\n",
       "<style scoped>\n",
       "    .dataframe tbody tr th:only-of-type {\n",
       "        vertical-align: middle;\n",
       "    }\n",
       "\n",
       "    .dataframe tbody tr th {\n",
       "        vertical-align: top;\n",
       "    }\n",
       "\n",
       "    .dataframe thead th {\n",
       "        text-align: right;\n",
       "    }\n",
       "</style>\n",
       "<table border=\"1\" class=\"dataframe\">\n",
       "  <thead>\n",
       "    <tr style=\"text-align: right;\">\n",
       "      <th></th>\n",
       "      <th>dataset</th>\n",
       "    </tr>\n",
       "    <tr>\n",
       "      <th>primary_site</th>\n",
       "      <th></th>\n",
       "    </tr>\n",
       "  </thead>\n",
       "  <tbody>\n",
       "    <tr>\n",
       "      <th>Breast</th>\n",
       "      <td>100</td>\n",
       "    </tr>\n",
       "    <tr>\n",
       "      <th>Colon</th>\n",
       "      <td>100</td>\n",
       "    </tr>\n",
       "    <tr>\n",
       "      <th>Esophagus</th>\n",
       "      <td>100</td>\n",
       "    </tr>\n",
       "    <tr>\n",
       "      <th>Liver</th>\n",
       "      <td>100</td>\n",
       "    </tr>\n",
       "    <tr>\n",
       "      <th>Lung</th>\n",
       "      <td>100</td>\n",
       "    </tr>\n",
       "    <tr>\n",
       "      <th>Prostate</th>\n",
       "      <td>100</td>\n",
       "    </tr>\n",
       "    <tr>\n",
       "      <th>Salivary Gland</th>\n",
       "      <td>100</td>\n",
       "    </tr>\n",
       "    <tr>\n",
       "      <th>Stomach</th>\n",
       "      <td>100</td>\n",
       "    </tr>\n",
       "    <tr>\n",
       "      <th>Thyroid</th>\n",
       "      <td>100</td>\n",
       "    </tr>\n",
       "    <tr>\n",
       "      <th>Uterus</th>\n",
       "      <td>100</td>\n",
       "    </tr>\n",
       "  </tbody>\n",
       "</table>\n",
       "</div>"
      ],
      "text/plain": [
       "                dataset\n",
       "primary_site           \n",
       "Breast              100\n",
       "Colon               100\n",
       "Esophagus           100\n",
       "Liver               100\n",
       "Lung                100\n",
       "Prostate            100\n",
       "Salivary Gland      100\n",
       "Stomach             100\n",
       "Thyroid             100\n",
       "Uterus              100"
      ]
     },
     "execution_count": 126,
     "metadata": {},
     "output_type": "execute_result"
    }
   ],
   "source": [
    "samples.groupby('primary_site').count()"
   ]
  },
  {
   "cell_type": "code",
   "execution_count": 127,
   "metadata": {},
   "outputs": [
    {
     "data": {
      "text/html": [
       "<div>\n",
       "<style scoped>\n",
       "    .dataframe tbody tr th:only-of-type {\n",
       "        vertical-align: middle;\n",
       "    }\n",
       "\n",
       "    .dataframe tbody tr th {\n",
       "        vertical-align: top;\n",
       "    }\n",
       "\n",
       "    .dataframe thead th {\n",
       "        text-align: right;\n",
       "    }\n",
       "</style>\n",
       "<table border=\"1\" class=\"dataframe\">\n",
       "  <thead>\n",
       "    <tr style=\"text-align: right;\">\n",
       "      <th></th>\n",
       "      <th>primary_site</th>\n",
       "    </tr>\n",
       "    <tr>\n",
       "      <th>dataset</th>\n",
       "      <th></th>\n",
       "    </tr>\n",
       "  </thead>\n",
       "  <tbody>\n",
       "    <tr>\n",
       "      <th>gtex</th>\n",
       "      <td>500</td>\n",
       "    </tr>\n",
       "    <tr>\n",
       "      <th>tcga</th>\n",
       "      <td>500</td>\n",
       "    </tr>\n",
       "  </tbody>\n",
       "</table>\n",
       "</div>"
      ],
      "text/plain": [
       "         primary_site\n",
       "dataset              \n",
       "gtex              500\n",
       "tcga              500"
      ]
     },
     "execution_count": 127,
     "metadata": {},
     "output_type": "execute_result"
    }
   ],
   "source": [
    "samples.groupby('dataset').count()"
   ]
  },
  {
   "cell_type": "markdown",
   "metadata": {},
   "source": [
    "# Use scanpy to filter HVG"
   ]
  },
  {
   "cell_type": "code",
   "execution_count": 142,
   "metadata": {},
   "outputs": [],
   "source": [
    "adata = sc.AnnData(df[samples.index].transpose(), obs=samples)\n",
    "adata_log = sc.pp.log1p(adata, copy=True)"
   ]
  },
  {
   "cell_type": "code",
   "execution_count": 143,
   "metadata": {},
   "outputs": [],
   "source": [
    "sc.pp.highly_variable_genes(adata_log, n_top_genes=3000, n_bins=50)"
   ]
  },
  {
   "cell_type": "code",
   "execution_count": 152,
   "metadata": {},
   "outputs": [
    {
     "name": "stdout",
     "output_type": "stream",
     "text": [
      "WARNING: saving figure to file figures/filter_genes_dispersionhvg.pdf\n"
     ]
    },
    {
     "data": {
      "image/png": "[encoded data removed]",
      "text/plain": [
       "<Figure size 864x288 with 2 Axes>"
      ]
     },
     "metadata": {
      "needs_background": "light"
     },
     "output_type": "display_data"
    }
   ],
   "source": [
    "sc.pl.highly_variable_genes(adata_log, log=True, save='hvg.pdf')"
   ]
  },
  {
   "cell_type": "code",
   "execution_count": 163,
   "metadata": {},
   "outputs": [],
   "source": [
    "hvg = adata_log.var[adata_log.var['highly_variable']==True].index\n",
    "samples = adata_log.obs.index"
   ]
  },
  {
   "cell_type": "markdown",
   "metadata": {},
   "source": [
    "# Use SBM"
   ]
  },
  {
   "cell_type": "code",
   "execution_count": 175,
   "metadata": {},
   "outputs": [],
   "source": [
    "from sbmtm import sbmtm"
   ]
  },
  {
   "cell_type": "code",
   "execution_count": 176,
   "metadata": {},
   "outputs": [],
   "source": [
    "model = sbmtm()"
   ]
  },
  {
   "cell_type": "code",
   "execution_count": 177,
   "metadata": {},
   "outputs": [
    {
     "data": {
      "text/plain": [
       "<sbmtm.sbmtm at 0x7fc9bb5eed30>"
      ]
     },
     "execution_count": 177,
     "metadata": {},
     "output_type": "execute_result"
    }
   ],
   "source": [
    "model.make_graph_from_BoW_df(df.loc[hvg, samples])"
   ]
  },
  {
   "cell_type": "code",
   "execution_count": 178,
   "metadata": {},
   "outputs": [],
   "source": [
    "model.save_graph(\"graph.xml.gz\")"
   ]
  },
  {
   "cell_type": "code",
   "execution_count": null,
   "metadata": {},
   "outputs": [],
   "source": []
  }
 ],
 "metadata": {
  "kernelspec": {
   "display_name": "Python 3",
   "language": "python",
   "name": "python3"
  },
  "language_info": {
   "codemirror_mode": {
    "name": "ipython",
    "version": 3
   },
   "file_extension": ".py",
   "mimetype": "text/x-python",
   "name": "python",
   "nbconvert_exporter": "python",
   "pygments_lexer": "ipython3",
   "version": "3.6.9"
  }
 },
 "nbformat": 4,
 "nbformat_minor": 2
}
