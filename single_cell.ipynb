{
 "cells": [
  {
   "cell_type": "code",
   "execution_count": null,
   "metadata": {},
   "outputs": [],
   "source": [
    "%load_ext watermark\n",
    "%watermark -v -m  -u -n -p pandas,numpy,matplotlib,json,sklearn,topicpy -a Filippo_Valle -g -r -b -w"
   ]
  },
  {
   "cell_type": "code",
   "execution_count": 3,
   "metadata": {},
   "outputs": [],
   "source": [
    "import pandas as pd\n",
    "import gc"
   ]
  },
  {
   "cell_type": "code",
   "execution_count": 2,
   "metadata": {},
   "outputs": [],
   "source": [
    "cells = pd.Series(data = [], dtype=str)\n",
    "tissues = [\"Cerebellum\", \"Heart\", \"Liver\", \"Lung\"]\n",
    "# for tissue in tissues:\n",
    "#     df_files = pd.read_csv('datasets/single-cell/annotation_rmbatch_data_revised417/Adult-{}1_rmbatchAnno.csv'.format(tissue), index_col=0, header=0)\n",
    "#     most_represented_celltypes = df_files.groupby([\"Celltype\"]).count().sort_values(by=\"Name\", ascending=False).index[:5]\n",
    "#     for cell_type in most_represented_celltypes:\n",
    "#         cells = pd.concat([cells, df_files[df_files[\"Celltype\"]==cell_type].sample(100, replace=False)])\n",
    "#     del df_files\n",
    "# df_files = cells.set_index(\"Cell_id\").dropna(how=\"all\", axis=1)\n",
    "df_files = pd.read_csv(\"datasets/single-cell/files.dat\", index_col=0)\n",
    "cells = df_files.index"
   ]
  },
  {
   "cell_type": "code",
   "execution_count": 3,
   "metadata": {},
   "outputs": [
    {
     "data": {
      "text/html": [
       "<div>\n",
       "<style scoped>\n",
       "    .dataframe tbody tr th:only-of-type {\n",
       "        vertical-align: middle;\n",
       "    }\n",
       "\n",
       "    .dataframe tbody tr th {\n",
       "        vertical-align: top;\n",
       "    }\n",
       "\n",
       "    .dataframe thead th {\n",
       "        text-align: right;\n",
       "    }\n",
       "</style>\n",
       "<table border=\"1\" class=\"dataframe\">\n",
       "  <thead>\n",
       "    <tr style=\"text-align: right;\">\n",
       "      <th></th>\n",
       "      <th>AdultCerebellum_1.ACGTTGCCAGACGATCTT</th>\n",
       "      <th>AdultCerebellum_1.CGAGTACGCACCGAGATC</th>\n",
       "      <th>AdultCerebellum_1.GTATACGAATTAAATAAA</th>\n",
       "      <th>AdultCerebellum_1.ATCTCTGCAGGATGCGGA</th>\n",
       "      <th>AdultCerebellum_1.CGAGTACTGTGTGCGAAT</th>\n",
       "      <th>AdultCerebellum_1.ACGAGCTAGAGACTCCAT</th>\n",
       "      <th>AdultCerebellum_1.ACGAGCCTTCTGGCCCTC</th>\n",
       "      <th>AdultCerebellum_1.ATCAACAAAGTTTAAGGG</th>\n",
       "      <th>AdultCerebellum_1.CCTTTCGACACTTTCATA</th>\n",
       "      <th>AdultCerebellum_1.TTCATACATCCCCATCCC</th>\n",
       "      <th>...</th>\n",
       "      <th>AdultLung_1.ACCTGACTGTGTAAGTAC</th>\n",
       "      <th>AdultLung_1.TCAAAGTCACTTATCAAC</th>\n",
       "      <th>AdultLung_1.TCAAAGTACTTCAAAACG</th>\n",
       "      <th>AdultLung_1.ACAATAATTTGCACGAGC</th>\n",
       "      <th>AdultLung_1.TCAAAGCAAAGTCCTTTC</th>\n",
       "      <th>AdultLung_1.TGAAGCGTATACTGCGGA</th>\n",
       "      <th>AdultLung_1.TGCGGATTCATATGTGCG</th>\n",
       "      <th>AdultLung_1.GACACTAGTCGTCCTAGA</th>\n",
       "      <th>AdultLung_1.CGGCAGAGGGTCGTAATG</th>\n",
       "      <th>AdultLung_1.TCGGGTGTGGTACCATCT</th>\n",
       "    </tr>\n",
       "  </thead>\n",
       "  <tbody>\n",
       "    <tr>\n",
       "      <th>A2M</th>\n",
       "      <td>0.0</td>\n",
       "      <td>0.0</td>\n",
       "      <td>0.0</td>\n",
       "      <td>0.0</td>\n",
       "      <td>0.000000</td>\n",
       "      <td>0.000000</td>\n",
       "      <td>0.000000</td>\n",
       "      <td>0.0</td>\n",
       "      <td>0.0</td>\n",
       "      <td>0.000000</td>\n",
       "      <td>...</td>\n",
       "      <td>0.0</td>\n",
       "      <td>0.0</td>\n",
       "      <td>0.0</td>\n",
       "      <td>0.0</td>\n",
       "      <td>0.0</td>\n",
       "      <td>0.0</td>\n",
       "      <td>0.0</td>\n",
       "      <td>0.0</td>\n",
       "      <td>0.0</td>\n",
       "      <td>0.0</td>\n",
       "    </tr>\n",
       "    <tr>\n",
       "      <th>AAMP</th>\n",
       "      <td>0.0</td>\n",
       "      <td>0.0</td>\n",
       "      <td>0.0</td>\n",
       "      <td>0.0</td>\n",
       "      <td>0.000000</td>\n",
       "      <td>0.000000</td>\n",
       "      <td>0.000000</td>\n",
       "      <td>0.0</td>\n",
       "      <td>0.0</td>\n",
       "      <td>0.000000</td>\n",
       "      <td>...</td>\n",
       "      <td>0.0</td>\n",
       "      <td>0.0</td>\n",
       "      <td>0.0</td>\n",
       "      <td>0.0</td>\n",
       "      <td>0.0</td>\n",
       "      <td>0.0</td>\n",
       "      <td>0.0</td>\n",
       "      <td>0.0</td>\n",
       "      <td>0.0</td>\n",
       "      <td>0.0</td>\n",
       "    </tr>\n",
       "    <tr>\n",
       "      <th>AASDHPPT</th>\n",
       "      <td>0.0</td>\n",
       "      <td>0.0</td>\n",
       "      <td>0.0</td>\n",
       "      <td>0.0</td>\n",
       "      <td>0.693147</td>\n",
       "      <td>0.693147</td>\n",
       "      <td>0.693147</td>\n",
       "      <td>0.0</td>\n",
       "      <td>0.0</td>\n",
       "      <td>0.693147</td>\n",
       "      <td>...</td>\n",
       "      <td>0.0</td>\n",
       "      <td>0.0</td>\n",
       "      <td>0.0</td>\n",
       "      <td>0.0</td>\n",
       "      <td>0.0</td>\n",
       "      <td>0.0</td>\n",
       "      <td>0.0</td>\n",
       "      <td>0.0</td>\n",
       "      <td>0.0</td>\n",
       "      <td>0.0</td>\n",
       "    </tr>\n",
       "    <tr>\n",
       "      <th>AB019441.29</th>\n",
       "      <td>0.0</td>\n",
       "      <td>0.0</td>\n",
       "      <td>0.0</td>\n",
       "      <td>0.0</td>\n",
       "      <td>0.000000</td>\n",
       "      <td>0.000000</td>\n",
       "      <td>0.000000</td>\n",
       "      <td>0.0</td>\n",
       "      <td>0.0</td>\n",
       "      <td>0.000000</td>\n",
       "      <td>...</td>\n",
       "      <td>0.0</td>\n",
       "      <td>0.0</td>\n",
       "      <td>0.0</td>\n",
       "      <td>0.0</td>\n",
       "      <td>0.0</td>\n",
       "      <td>0.0</td>\n",
       "      <td>0.0</td>\n",
       "      <td>0.0</td>\n",
       "      <td>0.0</td>\n",
       "      <td>0.0</td>\n",
       "    </tr>\n",
       "    <tr>\n",
       "      <th>ABAT</th>\n",
       "      <td>0.0</td>\n",
       "      <td>0.0</td>\n",
       "      <td>0.0</td>\n",
       "      <td>0.0</td>\n",
       "      <td>0.000000</td>\n",
       "      <td>0.000000</td>\n",
       "      <td>0.000000</td>\n",
       "      <td>0.0</td>\n",
       "      <td>0.0</td>\n",
       "      <td>0.000000</td>\n",
       "      <td>...</td>\n",
       "      <td>0.0</td>\n",
       "      <td>0.0</td>\n",
       "      <td>0.0</td>\n",
       "      <td>0.0</td>\n",
       "      <td>0.0</td>\n",
       "      <td>0.0</td>\n",
       "      <td>0.0</td>\n",
       "      <td>0.0</td>\n",
       "      <td>0.0</td>\n",
       "      <td>0.0</td>\n",
       "    </tr>\n",
       "  </tbody>\n",
       "</table>\n",
       "<p>5 rows × 2000 columns</p>\n",
       "</div>"
      ],
      "text/plain": [
       "             AdultCerebellum_1.ACGTTGCCAGACGATCTT  \\\n",
       "A2M                                           0.0   \n",
       "AAMP                                          0.0   \n",
       "AASDHPPT                                      0.0   \n",
       "AB019441.29                                   0.0   \n",
       "ABAT                                          0.0   \n",
       "\n",
       "             AdultCerebellum_1.CGAGTACGCACCGAGATC  \\\n",
       "A2M                                           0.0   \n",
       "AAMP                                          0.0   \n",
       "AASDHPPT                                      0.0   \n",
       "AB019441.29                                   0.0   \n",
       "ABAT                                          0.0   \n",
       "\n",
       "             AdultCerebellum_1.GTATACGAATTAAATAAA  \\\n",
       "A2M                                           0.0   \n",
       "AAMP                                          0.0   \n",
       "AASDHPPT                                      0.0   \n",
       "AB019441.29                                   0.0   \n",
       "ABAT                                          0.0   \n",
       "\n",
       "             AdultCerebellum_1.ATCTCTGCAGGATGCGGA  \\\n",
       "A2M                                           0.0   \n",
       "AAMP                                          0.0   \n",
       "AASDHPPT                                      0.0   \n",
       "AB019441.29                                   0.0   \n",
       "ABAT                                          0.0   \n",
       "\n",
       "             AdultCerebellum_1.CGAGTACTGTGTGCGAAT  \\\n",
       "A2M                                      0.000000   \n",
       "AAMP                                     0.000000   \n",
       "AASDHPPT                                 0.693147   \n",
       "AB019441.29                              0.000000   \n",
       "ABAT                                     0.000000   \n",
       "\n",
       "             AdultCerebellum_1.ACGAGCTAGAGACTCCAT  \\\n",
       "A2M                                      0.000000   \n",
       "AAMP                                     0.000000   \n",
       "AASDHPPT                                 0.693147   \n",
       "AB019441.29                              0.000000   \n",
       "ABAT                                     0.000000   \n",
       "\n",
       "             AdultCerebellum_1.ACGAGCCTTCTGGCCCTC  \\\n",
       "A2M                                      0.000000   \n",
       "AAMP                                     0.000000   \n",
       "AASDHPPT                                 0.693147   \n",
       "AB019441.29                              0.000000   \n",
       "ABAT                                     0.000000   \n",
       "\n",
       "             AdultCerebellum_1.ATCAACAAAGTTTAAGGG  \\\n",
       "A2M                                           0.0   \n",
       "AAMP                                          0.0   \n",
       "AASDHPPT                                      0.0   \n",
       "AB019441.29                                   0.0   \n",
       "ABAT                                          0.0   \n",
       "\n",
       "             AdultCerebellum_1.CCTTTCGACACTTTCATA  \\\n",
       "A2M                                           0.0   \n",
       "AAMP                                          0.0   \n",
       "AASDHPPT                                      0.0   \n",
       "AB019441.29                                   0.0   \n",
       "ABAT                                          0.0   \n",
       "\n",
       "             AdultCerebellum_1.TTCATACATCCCCATCCC  ...  \\\n",
       "A2M                                      0.000000  ...   \n",
       "AAMP                                     0.000000  ...   \n",
       "AASDHPPT                                 0.693147  ...   \n",
       "AB019441.29                              0.000000  ...   \n",
       "ABAT                                     0.000000  ...   \n",
       "\n",
       "             AdultLung_1.ACCTGACTGTGTAAGTAC  AdultLung_1.TCAAAGTCACTTATCAAC  \\\n",
       "A2M                                     0.0                             0.0   \n",
       "AAMP                                    0.0                             0.0   \n",
       "AASDHPPT                                0.0                             0.0   \n",
       "AB019441.29                             0.0                             0.0   \n",
       "ABAT                                    0.0                             0.0   \n",
       "\n",
       "             AdultLung_1.TCAAAGTACTTCAAAACG  AdultLung_1.ACAATAATTTGCACGAGC  \\\n",
       "A2M                                     0.0                             0.0   \n",
       "AAMP                                    0.0                             0.0   \n",
       "AASDHPPT                                0.0                             0.0   \n",
       "AB019441.29                             0.0                             0.0   \n",
       "ABAT                                    0.0                             0.0   \n",
       "\n",
       "             AdultLung_1.TCAAAGCAAAGTCCTTTC  AdultLung_1.TGAAGCGTATACTGCGGA  \\\n",
       "A2M                                     0.0                             0.0   \n",
       "AAMP                                    0.0                             0.0   \n",
       "AASDHPPT                                0.0                             0.0   \n",
       "AB019441.29                             0.0                             0.0   \n",
       "ABAT                                    0.0                             0.0   \n",
       "\n",
       "             AdultLung_1.TGCGGATTCATATGTGCG  AdultLung_1.GACACTAGTCGTCCTAGA  \\\n",
       "A2M                                     0.0                             0.0   \n",
       "AAMP                                    0.0                             0.0   \n",
       "AASDHPPT                                0.0                             0.0   \n",
       "AB019441.29                             0.0                             0.0   \n",
       "ABAT                                    0.0                             0.0   \n",
       "\n",
       "             AdultLung_1.CGGCAGAGGGTCGTAATG  AdultLung_1.TCGGGTGTGGTACCATCT  \n",
       "A2M                                     0.0                             0.0  \n",
       "AAMP                                    0.0                             0.0  \n",
       "AASDHPPT                                0.0                             0.0  \n",
       "AB019441.29                             0.0                             0.0  \n",
       "ABAT                                    0.0                             0.0  \n",
       "\n",
       "[5 rows x 2000 columns]"
      ]
     },
     "execution_count": 3,
     "metadata": {},
     "output_type": "execute_result"
    }
   ],
   "source": [
    "# df = pd.DataFrame()\n",
    "# for tissue in tissues:\n",
    "#     df_tissue = pd.read_csv('datasets/single-cell/new/Adult{}1.rmbatchdge.txt.gz'.format(tissue), header=0, sep=\" \")\n",
    "#     df = df.join(df_tissue, how=\"outer\")\n",
    "#     del df_tissue\n",
    "#     gc.collect()\n",
    "# df = df.reindex(columns=cells.values)\n",
    "# df.dropna(how=\"any\", axis=0, inplace=True)\n",
    "df = pd.read_csv(\"datasets/single-cell/mainTable.csv\", header=0, sep=\",\", index_col=0)\n",
    "df.head()"
   ]
  },
  {
   "cell_type": "code",
   "execution_count": 4,
   "metadata": {},
   "outputs": [],
   "source": [
    "assert 0==sum(df.columns!=cells.values)"
   ]
  },
  {
   "cell_type": "code",
   "execution_count": 11,
   "metadata": {},
   "outputs": [],
   "source": [
    "# import scanpy as sc\n",
    "# adata = sc.AnnData(X=df.transpose(), obs=pd.DataFrame(index=df.columns))\n",
    "# sc.pp.log1p(adata, copy=False)\n",
    "# sc.pp.highly_variable_genes(adata, n_top_genes=3000, n_bins=50)\n",
    "# #sc.pl.highly_variable_genes(adata, log=False, save='hvg.pdf')\n",
    "# hvg = adata.var[adata.var['highly_variable']==True].index\n",
    "# samples = adata.obs.index"
   ]
  },
  {
   "cell_type": "code",
   "execution_count": 8,
   "metadata": {},
   "outputs": [],
   "source": [
    "# df = df.reindex(index=hvg)"
   ]
  },
  {
   "cell_type": "code",
   "execution_count": 22,
   "metadata": {},
   "outputs": [],
   "source": [
    "df.to_csv(\"datasets/single-cell/mainTable.csv\", sep=\",\")"
   ]
  },
  {
   "cell_type": "code",
   "execution_count": 23,
   "metadata": {},
   "outputs": [],
   "source": [
    "df_files.to_csv(\"datasets/single-cell/files.dat\", sep=\",\")"
   ]
  },
  {
   "cell_type": "markdown",
   "metadata": {},
   "source": [
    "# hSBM"
   ]
  },
  {
   "cell_type": "code",
   "execution_count": 12,
   "metadata": {},
   "outputs": [],
   "source": [
    "import sys"
   ]
  },
  {
   "cell_type": "code",
   "execution_count": null,
   "metadata": {},
   "outputs": [],
   "source": [
    "sys.path.append(\"/home/jovyan/work/research/hSBM_Topicmodel/\")\n",
    "from sbmtm import sbmtm\n",
    "\n",
    "# create the model\n",
    "model = sbmtm()"
   ]
  },
  {
   "cell_type": "code",
   "execution_count": null,
   "metadata": {},
   "outputs": [],
   "source": [
    "model.make_graph_from_BoW_df(df)\n",
    "\n",
    "model.save_graph(\"datasets/single-cell/graph.xml.gz\")\n",
    "model.g"
   ]
  },
  {
   "cell_type": "code",
   "execution_count": 15,
   "metadata": {},
   "outputs": [],
   "source": [
    "try:\n",
    "    import graph_tool as gt\n",
    "    import os\n",
    "except:\n",
    "    raise ImportError(\"please use python 3.6 kernel\")"
   ]
  },
  {
   "cell_type": "code",
   "execution_count": null,
   "metadata": {},
   "outputs": [],
   "source": [
    "# os.mkdir(\"datasets/single-cell/topsbm\")\n",
    "os.chdir(\"/home/jovyan/work/research/topics/datasets/single-cell/topsbm\")\n",
    "\n",
    "model.fit(n_init=5, parallel=True, verbose=True)\n",
    "model.print_summary()"
   ]
  },
  {
   "cell_type": "code",
   "execution_count": null,
   "metadata": {},
   "outputs": [],
   "source": [
    "model.print_topics(l=2, format=\"csv\")"
   ]
  },
  {
   "cell_type": "code",
   "execution_count": null,
   "metadata": {},
   "outputs": [],
   "source": [
    "os.system(\"cp topsbm/topsbm_level_1_clusters.csv topsbm/topsbm_level_0_clusters.csv\")\n",
    "os.system(\"cp topsbm/topsbm_level_1_topics.csv topsbm/topsbm_level_0_topics.csv\")\n",
    "os.system(\"cp topsbm/topsbm_level_1_topic-dist.csv topsbm/topsbm_level_0_topic-dist.csv\")\n",
    "os.system(\"cp topsbm/topsbm_level_1_word-dist.csv topsbm/topsbm_level_0_word-dist.csv\")"
   ]
  },
  {
   "cell_type": "code",
   "execution_count": null,
   "metadata": {},
   "outputs": [],
   "source": [
    "os.chdir(\"/home/jovyan/work/research/topics/datasets/single-cell/\")\n",
    "os.getcwd()"
   ]
  },
  {
   "cell_type": "code",
   "execution_count": 23,
   "metadata": {},
   "outputs": [],
   "source": [
    "xl = [4]"
   ]
  },
  {
   "cell_type": "markdown",
   "metadata": {},
   "source": [
    "# LDA"
   ]
  },
  {
   "cell_type": "code",
   "execution_count": 24,
   "metadata": {},
   "outputs": [],
   "source": [
    "from topicpy.lda import lda"
   ]
  },
  {
   "cell_type": "code",
   "execution_count": null,
   "metadata": {},
   "outputs": [],
   "source": [
    "# os.mkdir(\"lda\")"
   ]
  },
  {
   "cell_type": "code",
   "execution_count": null,
   "metadata": {},
   "outputs": [],
   "source": [
    "os.listdir(\"lda\")"
   ]
  },
  {
   "cell_type": "code",
   "execution_count": null,
   "metadata": {},
   "outputs": [],
   "source": [
    "model=lda(n_jobs=4, verbose=2,  max_iter=5)\n",
    "model.full_analysis(\".\", xl=xl, tl=None, logarithmise=False, label=\"Biomaterial\")"
   ]
  },
  {
   "cell_type": "markdown",
   "metadata": {},
   "source": [
    "# Hierarchical"
   ]
  },
  {
   "cell_type": "code",
   "execution_count": 29,
   "metadata": {},
   "outputs": [],
   "source": [
    "from scipy.stats import pearsonr\n",
    "import numpy as np\n",
    "from sklearn.cluster import AgglomerativeClustering"
   ]
  },
  {
   "cell_type": "code",
   "execution_count": null,
   "metadata": {},
   "outputs": [],
   "source": [
    "def pearson_affinity(M, parallel=True):\n",
    "    return 1. - np.array([[pearsonr(a,b)[0] for a in M] for b in M])\n",
    "\n",
    "print(\"hierarchical-log\")\n",
    "os.system('mkdir -p hierarchical-log')\n",
    "hierarchical_model = AgglomerativeClustering(n_clusters=1, affinity='euclidean', linkage='complete')  \n",
    "for l,x in enumerate(xl):\n",
    "    print(\"testing with %d clusters\"%x)\n",
    "    hierarchical_model.n_clusters=x\n",
    "    data = np.log2(1.+df.T.values)\n",
    "    #data = df.T.values\n",
    "    out = hierarchical_model.fit_predict(data)\n",
    "        \n",
    "    #save clusters\n",
    "    print(\"saving clusters\")\n",
    "    df_clusters = pd.DataFrame(index=np.arange(len(df.columns)))\n",
    "    for c in np.arange(out.max()+1)[::-1]:\n",
    "        c_objects = df.columns[np.argwhere(out==c)].T[0]\n",
    "        df_clusters.insert(0,\"Cluster %d\"%(c+1),np.concatenate((c_objects,[np.nan for _ in np.arange(len(df.columns)-len(c_objects))])))\n",
    "    df_clusters.dropna(axis=0,how='all', inplace=True)\n",
    "    df_clusters.to_csv(\"hierarchical-log/hierarchical-log_level_%d_clusters.csv\"%(l), index=False, header=True)"
   ]
  },
  {
   "cell_type": "markdown",
   "metadata": {},
   "source": [
    "# Topic mapping"
   ]
  },
  {
   "cell_type": "code",
   "execution_count": null,
   "metadata": {},
   "outputs": [],
   "source": [
    "with open(\"corpus.txt\",'w') as file:\n",
    "    for sample in df.columns:\n",
    "        for g in np.array(df[sample].sort_values(ascending=False).index[:1000],dtype=str):\n",
    "            file.write(g[:15])\n",
    "            file.write(\" \")\n",
    "        file.write(\"\\n\")\n",
    "import gc\n",
    "gc.collect()"
   ]
  },
  {
   "cell_type": "code",
   "execution_count": null,
   "metadata": {},
   "outputs": [],
   "source": [
    "os.system(\"export PATH=$PATH:/home/jovyan/work/research/topicmapping/bin\")\n",
    "os.system(\"topicmap -f corpus.txt -r 10 -t 10 -seed 42 -o tm\")"
   ]
  },
  {
   "cell_type": "code",
   "execution_count": null,
   "metadata": {},
   "outputs": [],
   "source": [
    "df_words = pd.read_csv(\"tm/word_wn_count.txt\", sep=' ', header=None)\n",
    "df_words.columns=['word', 'word-id', 'occurrence']\n",
    "df_words.sort_values('word-id')"
   ]
  },
  {
   "cell_type": "code",
   "execution_count": 35,
   "metadata": {},
   "outputs": [],
   "source": [
    "df_topic_distr = pd.read_csv(\"tm/lda_gammas_final.txt\", sep=' ', header=None)\n",
    "df_topic_distr.columns=['Topic %d'%(t+1) for t in df_topic_distr.columns]\n",
    "df_topic_distr.index.name='i_doc'\n",
    "df_topic_distr.insert(0,'doc',df.columns)\n",
    "df_topic_distr=df_topic_distr.dropna(how='all',axis=1)"
   ]
  },
  {
   "cell_type": "code",
   "execution_count": null,
   "metadata": {},
   "outputs": [],
   "source": [
    "clusters = df_topic_distr.drop('doc',1).values.argmax(1)\n",
    "df_clusters=pd.DataFrame()\n",
    "for cluster in range(np.max(clusters)+1):\n",
    "    elems=df.columns[clusters==cluster].values\n",
    "    df_clusters.insert(0,'Cluster %d'%(cluster+1),np.concatenate([elems, ['' for _ in range(len(df.columns)- len(elems))]]))"
   ]
  },
  {
   "cell_type": "code",
   "execution_count": 37,
   "metadata": {},
   "outputs": [],
   "source": [
    "df_clusters.sort_index(axis=1).to_csv(\"tm/tm_level_0_clusters.csv\", index=False, header=True)\n",
    "df_topic_distr.to_csv(\"tm/tm_level_0_topic-dist.csv\", index=True, header=True)"
   ]
  },
  {
   "cell_type": "code",
   "execution_count": 38,
   "metadata": {},
   "outputs": [],
   "source": [
    "df_word_distr = pd.DataFrame().fillna(0)\n",
    "with open(\"tm/lda_betas_sparse_final.txt\",\"r\") as f:\n",
    "    for line in f.read().split(\"\\n\"):\n",
    "        row = line.split(\" \")\n",
    "        if len(row) < 2:\n",
    "            continue\n",
    "        topic = int(row[0])+1\n",
    "        line=np.array(row[1:-1], dtype=float).reshape(int((len(row)-1)/2),2)\n",
    "        for el in line:\n",
    "            df_word_distr.at[df_words[df_words['word-id']==int(el[0])].word.values[0], f\"Topic {topic}\"] = el[1]\n",
    "#df_word_distr.index=df_words['word']\n",
    "df_word_distr.fillna(0)\n",
    "df_word_distr.to_csv(\"tm/tm_level_0_word-dist.csv\", index=True, header=True)"
   ]
  },
  {
   "cell_type": "code",
   "execution_count": 39,
   "metadata": {},
   "outputs": [],
   "source": [
    "df_topics = pd.DataFrame()\n",
    "max_L = df_word_distr.shape[0]\n",
    "for topic in df_word_distr.columns[::-1]:\n",
    "    t_series = df_word_distr[topic]\n",
    "    t_series = t_series[t_series>t_series.quantile(0.99)]\n",
    "    df_topics.insert(0,topic,np.concatenate((t_series.index.values,np.repeat(np.nan, df_word_distr.shape[0]-len(t_series)))))\n",
    "df_topics.dropna(how=\"all\", axis=0).to_csv(\"tm/tm_level_0_topics.csv\", index=False, header=True)"
   ]
  },
  {
   "cell_type": "markdown",
   "metadata": {},
   "source": [
    "# WGCNA"
   ]
  },
  {
   "cell_type": "code",
   "execution_count": 1,
   "metadata": {},
   "outputs": [],
   "source": [
    "import os\n",
    "import numpy as np\n",
    "os.chdir(\"/home/jovyan/work/research/topics/datasets/single-cell/\")"
   ]
  },
  {
   "cell_type": "markdown",
   "metadata": {},
   "source": [
    "Run [WGCNA.ipynb](datasets/single-cell/WGCNA.ipynb)"
   ]
  },
  {
   "cell_type": "code",
   "execution_count": 5,
   "metadata": {},
   "outputs": [
    {
     "name": "stdout",
     "output_type": "stream",
     "text": [
      "saving clusters\n"
     ]
    },
    {
     "name": "stderr",
     "output_type": "stream",
     "text": [
      "/tmp/ipykernel_507756/353817966.py:9: FutureWarning: Support for multi-dimensional indexing (e.g. `obj[:, None]`) is deprecated and will be removed in a future version.  Convert to a numpy array before indexing instead.\n",
      "  c_objects = df_wgcna.index[np.argwhere(out==(c+1))].T[0]\n",
      "/tmp/ipykernel_507756/353817966.py:9: FutureWarning: Support for multi-dimensional indexing (e.g. `obj[:, None]`) is deprecated and will be removed in a future version.  Convert to a numpy array before indexing instead.\n",
      "  c_objects = df_wgcna.index[np.argwhere(out==(c+1))].T[0]\n",
      "/tmp/ipykernel_507756/353817966.py:9: FutureWarning: Support for multi-dimensional indexing (e.g. `obj[:, None]`) is deprecated and will be removed in a future version.  Convert to a numpy array before indexing instead.\n",
      "  c_objects = df_wgcna.index[np.argwhere(out==(c+1))].T[0]\n",
      "/tmp/ipykernel_507756/353817966.py:9: FutureWarning: Support for multi-dimensional indexing (e.g. `obj[:, None]`) is deprecated and will be removed in a future version.  Convert to a numpy array before indexing instead.\n",
      "  c_objects = df_wgcna.index[np.argwhere(out==(c+1))].T[0]\n",
      "/tmp/ipykernel_507756/353817966.py:9: FutureWarning: Support for multi-dimensional indexing (e.g. `obj[:, None]`) is deprecated and will be removed in a future version.  Convert to a numpy array before indexing instead.\n",
      "  c_objects = df_wgcna.index[np.argwhere(out==(c+1))].T[0]\n"
     ]
    }
   ],
   "source": [
    "from topicpy.hsbmpy import get_max_available_L\n",
    "for l in range(get_max_available_L(\".\", \"wgcna\")+1):\n",
    "    df_wgcna = pd.read_csv(\"wgcna/wgcna_level_%d_labels.csv\"%l, index_col=0)\n",
    "    totalobjcets = len(df_wgcna.index)\n",
    "    out = df_wgcna['x'].values\n",
    "    print(\"saving clusters\")\n",
    "    df_clusters = pd.DataFrame(index=np.arange(totalobjcets))\n",
    "    for c in np.arange(out.max()+1)[::-1]:\n",
    "        c_objects = df_wgcna.index[np.argwhere(out==(c+1))].T[0]\n",
    "        df_clusters.insert(0,\"Cluster %d\"%(c+1),np.concatenate((c_objects,[np.nan for _ in np.arange(totalobjcets-len(c_objects))])))\n",
    "    df_clusters.dropna(axis=0,how='all', inplace=True)\n",
    "    df_clusters.to_csv(\"wgcna/wgcna_level_%d_clusters.csv\"%l, index=False, header=True)\n",
    "df_wgcna_td = pd.read_csv(\"wgcna/wgcna_level_0_topic-dist.csv\")\n",
    "df_wgcna_td.columns.values[0]='doc'\n",
    "df_wgcna_td.index.name='i_doc'\n",
    "df_wgcna_td.to_csv(\"wgcna/wgcna_level_0_topic-dist.csv\", index=True)"
   ]
  },
  {
   "cell_type": "code",
   "execution_count": 6,
   "metadata": {},
   "outputs": [],
   "source": [
    "df_word_distr = pd.read_csv(\"wgcna/wgcna_level_0_word-dist.csv\", index_col=0)\n",
    "df_topics = pd.DataFrame()\n",
    "max_L = df_word_distr.shape[0]\n",
    "for topic in df_word_distr.columns[::-1]:\n",
    "    t_series = df_word_distr[topic]\n",
    "    t_series = t_series[t_series>0.5]\n",
    "    df_topics.insert(0,topic.replace(\"MM\",\"ME\"),np.concatenate((t_series.index.values,np.repeat(np.nan, df_word_distr.shape[0]-len(t_series)))))\n",
    "df_topics.dropna(how=\"all\", axis=0).to_csv(\"wgcna/wgcna_level_0_topics.csv\", index=False, header=True)"
   ]
  },
  {
   "cell_type": "code",
   "execution_count": null,
   "metadata": {},
   "outputs": [],
   "source": []
  }
 ],
 "metadata": {
  "kernelspec": {
   "display_name": "base",
   "language": "python",
   "name": "python3"
  },
  "language_info": {
   "codemirror_mode": {
    "name": "ipython",
    "version": 3
   },
   "file_extension": ".py",
   "mimetype": "text/x-python",
   "name": "python",
   "nbconvert_exporter": "python",
   "pygments_lexer": "ipython3",
   "version": "3.10.6"
  }
 },
 "nbformat": 4,
 "nbformat_minor": 2
}
