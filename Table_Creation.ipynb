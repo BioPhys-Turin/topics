{
 "cells": [
  {
   "cell_type": "markdown",
   "metadata": {},
   "source": [
    "# Create a table with TCGA data"
   ]
  },
  {
   "cell_type": "code",
   "execution_count": 11,
   "metadata": {},
   "outputs": [
    {
     "name": "stdout",
     "output_type": "stream",
     "text": [
      "The watermark extension is already loaded. To reload it, use:\n",
      "  %reload_ext watermark\n",
      "Filippo_Valle \n",
      "last updated: Thu Jun 18 2020 \n",
      "\n",
      "CPython 3.7.6\n",
      "IPython 7.15.0\n",
      "\n",
      "pandas 1.0.4\n",
      "numpy 1.18.5\n",
      "matplotlib 3.2.1\n",
      "regex 2020.6.8\n",
      "\n",
      "compiler   : GCC 7.5.0\n",
      "system     : Linux\n",
      "release    : 4.19.76-linuxkit\n",
      "machine    : x86_64\n",
      "processor  : x86_64\n",
      "CPU cores  : 2\n",
      "interpreter: 64bit\n",
      "Git hash   : 3c8ae8f7082ca41e4f98ab084dc707834cbe547b\n",
      "Git repo   : git@github.com:fvalle1/phd.git\n",
      "Git branch : master\n",
      "watermark 2.0.2\n"
     ]
    }
   ],
   "source": [
    "%load_ext watermark\n",
    "%watermark -v -m  -u -n -p pandas,numpy,matplotlib,regex -a Filippo_Valle -g -r -b -w"
   ]
  },
  {
   "cell_type": "code",
   "execution_count": null,
   "metadata": {},
   "outputs": [],
   "source": [
    "# import libraries\n",
    "import os\n",
    "import sys\n",
    "import pandas as pd\n",
    "import numpy as np\n",
    "import regex as re\n",
    "from matplotlib import pyplot as plt\n",
    "import time"
   ]
  },
  {
   "cell_type": "markdown",
   "metadata": {},
   "source": [
    "Set *working_dir* to the directory where you downloaded files in *data*"
   ]
  },
  {
   "cell_type": "code",
   "execution_count": null,
   "metadata": {},
   "outputs": [],
   "source": [
    "working_dir = \"lung/\"\n",
    "os.chdir(working_dir)\n",
    "dirs = os.listdir(\"data\")"
   ]
  },
  {
   "cell_type": "code",
   "execution_count": null,
   "metadata": {},
   "outputs": [],
   "source": [
    "os.getcwd()"
   ]
  },
  {
   "cell_type": "code",
   "execution_count": null,
   "metadata": {},
   "outputs": [],
   "source": [
    "len(dirs)"
   ]
  },
  {
   "cell_type": "markdown",
   "metadata": {},
   "source": [
    "Prepare a list of genes that satisfied filters described by *Dey et al.* [Visualizing the structure of RNA-seq expression data using grade of membership models](https://journals.plos.org/plosgenetics/article?id=10.1371/journal.pgen.1006599)"
   ]
  },
  {
   "cell_type": "code",
   "execution_count": null,
   "metadata": {},
   "outputs": [],
   "source": [
    "df_genes = pd.read_csv(\"https://stephenslab.github.io/count-clustering/project/utilities/gene_names_all_gtex.txt\", header=None).set_index(0)\n",
    "select_genes = df_genes.index.values"
   ]
  },
  {
   "cell_type": "markdown",
   "metadata": {},
   "source": [
    "We will store data in df DataFrame with genes as *index* and samples as *columns*"
   ]
  },
  {
   "cell_type": "code",
   "execution_count": null,
   "metadata": {},
   "outputs": [],
   "source": [
    "df = df_genes.copy()\n",
    "df.head(2)"
   ]
  },
  {
   "cell_type": "code",
   "execution_count": null,
   "metadata": {},
   "outputs": [],
   "source": [
    "# filter only files with FPKM data\n",
    "def getFilenameFromDir(directory):\n",
    "    if \".DS_Store\" in directory:\n",
    "        return None\n",
    "    for element in os.listdir(directory):\n",
    "        if re.match(\"[a-zA-Z0-9]{8}-[a-zA-Z0-9]{4}-[a-zA-Z0-9]{4}-[a-zA-Z0-9\\-]{4}-[a-zA-Z0-9\\-]{12}[\\.FPKM]{5}.txt[\\.gz]{0,3}\",element):\n",
    "            cfile = element\n",
    "            print(element)\n",
    "            return cfile\n",
    "    raise BaseException(\"Not found %s\"%os.listdir(directory))"
   ]
  },
  {
   "cell_type": "markdown",
   "metadata": {},
   "source": [
    "Create the dataframe, this may take a long time"
   ]
  },
  {
   "cell_type": "code",
   "execution_count": null,
   "metadata": {},
   "outputs": [],
   "source": [
    "# set the maximum number of samples to insert in the dataset\n",
    "maxacceptables = 15000\n",
    "\n",
    "# count the number of added samples\n",
    "added = len(df.columns)\n",
    "\n",
    "# iterate c(urrent)directory in downloaded directories\n",
    "for i,cdirectory in enumerate(dirs):\n",
    "    # manifest is not a data file\n",
    "    if re.match(\"manifest\\.txt\",cdirectory):\n",
    "        print(\"SKIPPING %s \"%cdirectory)\n",
    "        continue\n",
    "    # Icon and DS_Store are MacOS files\n",
    "    if \"Icon\" in cdirectory:\n",
    "        print(\"SKIPPING %s \"%cdirectory)\n",
    "        continue\n",
    "    if \".DS_Store\" in cdirectory:\n",
    "        print(\"SKIPPING %s \"%cdirectory)\n",
    "        continue\n",
    "    \n",
    "    # current file name\n",
    "    cfile = getFilenameFromDir(\"data/%s\"%cdirectory)\n",
    "    \n",
    "    # sample dataframe\n",
    "    cdf = pd.read_csv((\"data/%s/%s\"%(cdirectory,cfile)), sep='\\t', header=None)\n",
    "    cdf.columns = [\"gene\", cfile[:]]\n",
    "    \n",
    "    # get only first 15 characters of gene name\n",
    "    cdf['gene'] = [gene[:15] for gene in cdf['gene']]\n",
    "    \n",
    "    # set genes as index\n",
    "    cdf.set_index('gene',inplace=True)\n",
    "    \n",
    "    # get only protein-coding and filtered genes\n",
    "    cdf = cdf.reindex(index=df_genes.index)\n",
    "    \n",
    "    # number of samples added so far\n",
    "    old_L = len(df.columns)\n",
    "    \n",
    "    #insert new sample\n",
    "    df.insert(0,cdf.keys()[0][:],cdf.values)\n",
    "    \n",
    "    # if something went wrong and data was not added raise exception\n",
    "    if len(df.columns) != old_L+1:\n",
    "        print(*sys.exc_info())\n",
    "        raise(Exception(\"Not able to add: %s\"%cfile))\n",
    "    \n",
    "    # break if added more than acceptables\n",
    "    if added >= maxacceptables:\n",
    "        break\n",
    "print(added, i)"
   ]
  },
  {
   "cell_type": "code",
   "execution_count": null,
   "metadata": {},
   "outputs": [],
   "source": [
    "print((\"genes:%d\\tsamples:%d\"%(len(df.index),len(df.columns))))"
   ]
  },
  {
   "cell_type": "markdown",
   "metadata": {},
   "source": [
    "Save data to a .csv file"
   ]
  },
  {
   "cell_type": "code",
   "execution_count": null,
   "metadata": {},
   "outputs": [],
   "source": [
    "# drop genes all empty and round (to reduce storage space)\n",
    "df.dropna(how='all', axis=0).round(decimals=2).to_csv(\"mainTable_all.csv\", index=True)"
   ]
  }
 ],
 "metadata": {
  "kernelspec": {
   "display_name": "Python 3",
   "language": "python",
   "name": "python3"
  },
  "language_info": {
   "codemirror_mode": {
    "name": "ipython",
    "version": 3
   },
   "file_extension": ".py",
   "mimetype": "text/x-python",
   "name": "python",
   "nbconvert_exporter": "python",
   "pygments_lexer": "ipython3",
   "version": "3.7.6"
  }
 },
 "nbformat": 4,
 "nbformat_minor": 4
}
