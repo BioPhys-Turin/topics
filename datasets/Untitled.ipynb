{
 "cells": [
  {
   "cell_type": "code",
   "execution_count": 3,
   "id": "electrical-audience",
   "metadata": {},
   "outputs": [],
   "source": [
    "import os, sys\n",
    "import numpy as np"
   ]
  },
  {
   "cell_type": "code",
   "execution_count": 5,
   "id": "allied-procurement",
   "metadata": {},
   "outputs": [],
   "source": [
    "direct = \"random77\""
   ]
  },
  {
   "cell_type": "code",
   "execution_count": 11,
   "id": "proprietary-southwest",
   "metadata": {},
   "outputs": [],
   "source": [
    "#os.chdir(\"random/%s\"%direct)"
   ]
  },
  {
   "cell_type": "code",
   "execution_count": 14,
   "id": "defensive-quantum",
   "metadata": {},
   "outputs": [
    {
     "data": {
      "text/plain": [
       "['node09-3090700.err',\n",
       " 'topsbm_level_0_topics.tsv',\n",
       " 'topsbm_level_1_word-dist.csv',\n",
       " 'topsbm_level_0_topic-dist.csv',\n",
       " 'topsbm_level_1_topics.tsv',\n",
       " 'graph.xml.gz.dvc',\n",
       " 'node09-3090700.done',\n",
       " 'topsbm_level_3_topic-dist.csv',\n",
       " 'p_tw_d_3.png',\n",
       " 'topsbm_level_3_word-dist.csv',\n",
       " 'p_w_tw_2.png',\n",
       " 'topsbm_level_1_topic-dist.csv',\n",
       " 'p_tw_d_1.png',\n",
       " 'topsbm.pkl',\n",
       " 'topsbm_level_2_clusters.csv',\n",
       " 'currentjob.txt',\n",
       " 'mat_2.png',\n",
       " 'random',\n",
       " '.gitignore',\n",
       " 'summary.txt',\n",
       " 'topsbm_level_2_topics.csv',\n",
       " 'mainTable.csv',\n",
       " 'p_tw_d_0.png',\n",
       " 'mat_0.png',\n",
       " 'topsbm_level_0_topics.csv',\n",
       " 'topsbm_level_3_topics.csv',\n",
       " 'p_tw_d_2.png',\n",
       " 'mat_1.png',\n",
       " 'graph.xml.gz',\n",
       " 'topsbm_level_1_clusters.csv',\n",
       " 'topsbm_level_3_clusters.csv',\n",
       " 'topsbm_level_2_word-dist.csv',\n",
       " 'topsbm_level_2_topic-dist.csv',\n",
       " 'topsbm_level_0_clusters.csv',\n",
       " 'topsbm_level_0_word-dist.csv',\n",
       " 'mainTable.csv.dvc',\n",
       " 'p_w_tw_1.png',\n",
       " 'mat_3.png',\n",
       " 'topsbm_level_1_topics.csv',\n",
       " 'node09-3090700.log',\n",
       " 'topsbm_level_3_topics.tsv',\n",
       " 'p_w_tw_0.png',\n",
       " 'topsbm_level_2_topics.tsv',\n",
       " 'p_w_tw_3.png']"
      ]
     },
     "execution_count": 14,
     "metadata": {},
     "output_type": "execute_result"
    }
   ],
   "source": [
    "os.listdir()"
   ]
  },
  {
   "cell_type": "code",
   "execution_count": 15,
   "id": "alert-notification",
   "metadata": {},
   "outputs": [
    {
     "data": {
      "text/plain": [
       "0"
      ]
     },
     "execution_count": 15,
     "metadata": {},
     "output_type": "execute_result"
    }
   ],
   "source": [
    "os.system(f\"mkdir -p topsbm/\")\n",
    "os.system(f\"mv *.csv topsbm/\")\n",
    "os.system(f\"mv *.png topsbm/\")\n",
    "os.system(f\"mv *.tsv topsbm/\")\n",
    "os.system(f\"mv *.txt topsbm/\")\n",
    "os.system(f\"mv *.pkl topsbm/\")\n",
    "os.system(f\"mv node* topsbm/\")\n",
    "os.system(f\"mv graph.xml.gz* topsbm/\")\n",
    "os.system(f\"mv topsbm/mainTable* .\")"
   ]
  },
  {
   "cell_type": "code",
   "execution_count": 17,
   "id": "ordinary-productivity",
   "metadata": {},
   "outputs": [
    {
     "data": {
      "text/plain": [
       "0"
      ]
     },
     "execution_count": 17,
     "metadata": {},
     "output_type": "execute_result"
    }
   ],
   "source": [
    "os.system(f\"dvc remove topsbm/graph.xml.gz.dvc\")\n",
    "os.system(f\"dvc add topsbm/graph.xml.gz\")\n",
    "os.system(f\"git add -f topsbm/graph.xml.gz.dvc\")"
   ]
  },
  {
   "cell_type": "code",
   "execution_count": null,
   "id": "blocked-culture",
   "metadata": {},
   "outputs": [],
   "source": []
  }
 ],
 "metadata": {
  "kernelspec": {
   "display_name": "Python 3",
   "language": "python",
   "name": "python3"
  },
  "language_info": {
   "codemirror_mode": {
    "name": "ipython",
    "version": 3
   },
   "file_extension": ".py",
   "mimetype": "text/x-python",
   "name": "python",
   "nbconvert_exporter": "python",
   "pygments_lexer": "ipython3",
   "version": "3.8.6"
  }
 },
 "nbformat": 4,
 "nbformat_minor": 5
}
