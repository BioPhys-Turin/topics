{
 "cells": [
  {
   "cell_type": "code",
   "execution_count": 2,
   "metadata": {
    "vscode": {
     "languageId": "r"
    }
   },
   "outputs": [
    {
     "data": {
      "text/html": [
       "'/home/jovyan/work/research/topics/datasets/single-cell'"
      ],
      "text/latex": [
       "'/home/jovyan/work/research/topics/datasets/single-cell'"
      ],
      "text/markdown": [
       "'/home/jovyan/work/research/topics/datasets/single-cell'"
      ],
      "text/plain": [
       "[1] \"/home/jovyan/work/research/topics/datasets/single-cell\""
      ]
     },
     "metadata": {},
     "output_type": "display_data"
    },
    {
     "name": "stderr",
     "output_type": "stream",
     "text": [
      "Loading required package: dynamicTreeCut\n",
      "\n",
      "Loading required package: fastcluster\n",
      "\n",
      "\n",
      "Attaching package: ‘fastcluster’\n",
      "\n",
      "\n",
      "The following object is masked from ‘package:stats’:\n",
      "\n",
      "    hclust\n",
      "\n",
      "\n",
      "\n",
      "\n",
      "\n",
      "Attaching package: ‘WGCNA’\n",
      "\n",
      "\n",
      "The following object is masked from ‘package:stats’:\n",
      "\n",
      "    cor\n",
      "\n",
      "\n"
     ]
    },
    {
     "name": "stdout",
     "output_type": "stream",
     "text": [
      "Allowing multi-threading with up to 12 threads.\n"
     ]
    }
   ],
   "source": [
    "# Display the current working directory\n",
    "getwd();\n",
    "# If necessary, change the path below to the directory where the data files are stored.\n",
    "# \".\" means current directory. On Windows use a forward slash / instead of the usual \\.\n",
    "workingDir = \"/home/jovyan/work/research/topics/datasets/single-cell\";\n",
    "setwd(workingDir);\n",
    "# Load WGCNA package\n",
    "library(WGCNA)\n",
    "allowWGCNAThreads()\n",
    "# The following setting is important, do not omit.\n",
    "options(stringsAsFactors = FALSE);"
   ]
  },
  {
   "cell_type": "code",
   "execution_count": 3,
   "metadata": {
    "vscode": {
     "languageId": "r"
    }
   },
   "outputs": [],
   "source": [
    "add_legend <- function(...) {\n",
    "  opar <- par(fig=c(0, 1, 0, 1), oma=c(0, 0, 0, 0), \n",
    "    mar=c(0, 0, 0, 0), new=TRUE)\n",
    "  on.exit(par(opar))\n",
    "  plot(0, 0, type='n', bty='n', xaxt='n', yaxt='n')\n",
    "  legend(...)\n",
    "}"
   ]
  },
  {
   "cell_type": "code",
   "execution_count": 4,
   "metadata": {
    "vscode": {
     "languageId": "r"
    }
   },
   "outputs": [],
   "source": [
    "datExpr <- t(read.csv(\"mainTable.csv\", check.names=FALSE, row.names = \"\"))\n",
    "genes <- dimnames(datExpr)[[2]]\n",
    "samples <- dimnames(datExpr)[[1]]\n",
    "datExpr <- as.data.frame(apply(datExpr,2, as.numeric)) #numeric\n",
    "dimnames(datExpr)[[1]] <- samples\n",
    "allTraits <- read.csv(\"files.dat\")"
   ]
  },
  {
   "cell_type": "code",
   "execution_count": 5,
   "metadata": {
    "vscode": {
     "languageId": "r"
    }
   },
   "outputs": [],
   "source": [
    "log2_1 <- function(x){\n",
    "    log2(x+1)\n",
    "}\n",
    "datExpr <- as.data.frame(apply(datExpr,2, log2_1))\n",
    "dimnames(datExpr)[[1]] <- samples"
   ]
  },
  {
   "cell_type": "code",
   "execution_count": 6,
   "metadata": {
    "vscode": {
     "languageId": "r"
    }
   },
   "outputs": [
    {
     "data": {
      "text/html": [
       "<table class=\"dataframe\">\n",
       "<caption>A data.frame: 10 × 5</caption>\n",
       "<thead>\n",
       "\t<tr><th></th><th scope=col>A2M</th><th scope=col>AAMP</th><th scope=col>AASDHPPT</th><th scope=col>AB019441.29</th><th scope=col>ABAT</th></tr>\n",
       "\t<tr><th></th><th scope=col>&lt;dbl&gt;</th><th scope=col>&lt;dbl&gt;</th><th scope=col>&lt;dbl&gt;</th><th scope=col>&lt;dbl&gt;</th><th scope=col>&lt;dbl&gt;</th></tr>\n",
       "</thead>\n",
       "<tbody>\n",
       "\t<tr><th scope=row>AdultCerebellum_1.ACGTTGCCAGACGATCTT</th><td>0</td><td>0</td><td>0.0000000</td><td>0</td><td>0</td></tr>\n",
       "\t<tr><th scope=row>AdultCerebellum_1.CGAGTACGCACCGAGATC</th><td>0</td><td>0</td><td>0.0000000</td><td>0</td><td>0</td></tr>\n",
       "\t<tr><th scope=row>AdultCerebellum_1.GTATACGAATTAAATAAA</th><td>0</td><td>0</td><td>0.0000000</td><td>0</td><td>0</td></tr>\n",
       "\t<tr><th scope=row>AdultCerebellum_1.ATCTCTGCAGGATGCGGA</th><td>0</td><td>0</td><td>0.0000000</td><td>0</td><td>0</td></tr>\n",
       "\t<tr><th scope=row>AdultCerebellum_1.CGAGTACTGTGTGCGAAT</th><td>0</td><td>0</td><td>0.7597074</td><td>0</td><td>0</td></tr>\n",
       "\t<tr><th scope=row>AdultCerebellum_1.ACGAGCTAGAGACTCCAT</th><td>0</td><td>0</td><td>0.7597074</td><td>0</td><td>0</td></tr>\n",
       "\t<tr><th scope=row>AdultCerebellum_1.ACGAGCCTTCTGGCCCTC</th><td>0</td><td>0</td><td>0.7597074</td><td>0</td><td>0</td></tr>\n",
       "\t<tr><th scope=row>AdultCerebellum_1.ATCAACAAAGTTTAAGGG</th><td>0</td><td>0</td><td>0.0000000</td><td>0</td><td>0</td></tr>\n",
       "\t<tr><th scope=row>AdultCerebellum_1.CCTTTCGACACTTTCATA</th><td>0</td><td>0</td><td>0.0000000</td><td>0</td><td>0</td></tr>\n",
       "\t<tr><th scope=row>AdultCerebellum_1.TTCATACATCCCCATCCC</th><td>0</td><td>0</td><td>0.7597074</td><td>0</td><td>0</td></tr>\n",
       "</tbody>\n",
       "</table>\n"
      ],
      "text/latex": [
       "A data.frame: 10 × 5\n",
       "\\begin{tabular}{r|lllll}\n",
       "  & A2M & AAMP & AASDHPPT & AB019441.29 & ABAT\\\\\n",
       "  & <dbl> & <dbl> & <dbl> & <dbl> & <dbl>\\\\\n",
       "\\hline\n",
       "\tAdultCerebellum\\_1.ACGTTGCCAGACGATCTT & 0 & 0 & 0.0000000 & 0 & 0\\\\\n",
       "\tAdultCerebellum\\_1.CGAGTACGCACCGAGATC & 0 & 0 & 0.0000000 & 0 & 0\\\\\n",
       "\tAdultCerebellum\\_1.GTATACGAATTAAATAAA & 0 & 0 & 0.0000000 & 0 & 0\\\\\n",
       "\tAdultCerebellum\\_1.ATCTCTGCAGGATGCGGA & 0 & 0 & 0.0000000 & 0 & 0\\\\\n",
       "\tAdultCerebellum\\_1.CGAGTACTGTGTGCGAAT & 0 & 0 & 0.7597074 & 0 & 0\\\\\n",
       "\tAdultCerebellum\\_1.ACGAGCTAGAGACTCCAT & 0 & 0 & 0.7597074 & 0 & 0\\\\\n",
       "\tAdultCerebellum\\_1.ACGAGCCTTCTGGCCCTC & 0 & 0 & 0.7597074 & 0 & 0\\\\\n",
       "\tAdultCerebellum\\_1.ATCAACAAAGTTTAAGGG & 0 & 0 & 0.0000000 & 0 & 0\\\\\n",
       "\tAdultCerebellum\\_1.CCTTTCGACACTTTCATA & 0 & 0 & 0.0000000 & 0 & 0\\\\\n",
       "\tAdultCerebellum\\_1.TTCATACATCCCCATCCC & 0 & 0 & 0.7597074 & 0 & 0\\\\\n",
       "\\end{tabular}\n"
      ],
      "text/markdown": [
       "\n",
       "A data.frame: 10 × 5\n",
       "\n",
       "| <!--/--> | A2M &lt;dbl&gt; | AAMP &lt;dbl&gt; | AASDHPPT &lt;dbl&gt; | AB019441.29 &lt;dbl&gt; | ABAT &lt;dbl&gt; |\n",
       "|---|---|---|---|---|---|\n",
       "| AdultCerebellum_1.ACGTTGCCAGACGATCTT | 0 | 0 | 0.0000000 | 0 | 0 |\n",
       "| AdultCerebellum_1.CGAGTACGCACCGAGATC | 0 | 0 | 0.0000000 | 0 | 0 |\n",
       "| AdultCerebellum_1.GTATACGAATTAAATAAA | 0 | 0 | 0.0000000 | 0 | 0 |\n",
       "| AdultCerebellum_1.ATCTCTGCAGGATGCGGA | 0 | 0 | 0.0000000 | 0 | 0 |\n",
       "| AdultCerebellum_1.CGAGTACTGTGTGCGAAT | 0 | 0 | 0.7597074 | 0 | 0 |\n",
       "| AdultCerebellum_1.ACGAGCTAGAGACTCCAT | 0 | 0 | 0.7597074 | 0 | 0 |\n",
       "| AdultCerebellum_1.ACGAGCCTTCTGGCCCTC | 0 | 0 | 0.7597074 | 0 | 0 |\n",
       "| AdultCerebellum_1.ATCAACAAAGTTTAAGGG | 0 | 0 | 0.0000000 | 0 | 0 |\n",
       "| AdultCerebellum_1.CCTTTCGACACTTTCATA | 0 | 0 | 0.0000000 | 0 | 0 |\n",
       "| AdultCerebellum_1.TTCATACATCCCCATCCC | 0 | 0 | 0.7597074 | 0 | 0 |\n",
       "\n"
      ],
      "text/plain": [
       "                                     A2M AAMP AASDHPPT  AB019441.29 ABAT\n",
       "AdultCerebellum_1.ACGTTGCCAGACGATCTT 0   0    0.0000000 0           0   \n",
       "AdultCerebellum_1.CGAGTACGCACCGAGATC 0   0    0.0000000 0           0   \n",
       "AdultCerebellum_1.GTATACGAATTAAATAAA 0   0    0.0000000 0           0   \n",
       "AdultCerebellum_1.ATCTCTGCAGGATGCGGA 0   0    0.0000000 0           0   \n",
       "AdultCerebellum_1.CGAGTACTGTGTGCGAAT 0   0    0.7597074 0           0   \n",
       "AdultCerebellum_1.ACGAGCTAGAGACTCCAT 0   0    0.7597074 0           0   \n",
       "AdultCerebellum_1.ACGAGCCTTCTGGCCCTC 0   0    0.7597074 0           0   \n",
       "AdultCerebellum_1.ATCAACAAAGTTTAAGGG 0   0    0.0000000 0           0   \n",
       "AdultCerebellum_1.CCTTTCGACACTTTCATA 0   0    0.0000000 0           0   \n",
       "AdultCerebellum_1.TTCATACATCCCCATCCC 0   0    0.7597074 0           0   "
      ]
     },
     "metadata": {},
     "output_type": "display_data"
    }
   ],
   "source": [
    "datExpr[1:10,1:5]"
   ]
  },
  {
   "cell_type": "code",
   "execution_count": 7,
   "metadata": {
    "vscode": {
     "languageId": "r"
    }
   },
   "outputs": [
    {
     "data": {
      "text/html": [
       "<table class=\"dataframe\">\n",
       "<caption>A data.frame: 6 × 13</caption>\n",
       "<thead>\n",
       "\t<tr><th></th><th scope=col>Cell_id</th><th scope=col>Sample</th><th scope=col>Batch</th><th scope=col>Cluster_id</th><th scope=col>Ages</th><th scope=col>Development_stage</th><th scope=col>Method</th><th scope=col>Gender</th><th scope=col>Source</th><th scope=col>Biomaterial</th><th scope=col>Name</th><th scope=col>ident</th><th scope=col>Celltype</th></tr>\n",
       "\t<tr><th></th><th scope=col>&lt;chr&gt;</th><th scope=col>&lt;chr&gt;</th><th scope=col>&lt;chr&gt;</th><th scope=col>&lt;chr&gt;</th><th scope=col>&lt;chr&gt;</th><th scope=col>&lt;chr&gt;</th><th scope=col>&lt;chr&gt;</th><th scope=col>&lt;chr&gt;</th><th scope=col>&lt;chr&gt;</th><th scope=col>&lt;chr&gt;</th><th scope=col>&lt;chr&gt;</th><th scope=col>&lt;dbl&gt;</th><th scope=col>&lt;chr&gt;</th></tr>\n",
       "</thead>\n",
       "<tbody>\n",
       "\t<tr><th scope=row>1</th><td>AdultCerebellum_1.ACGTTGCCAGACGATCTT</td><td>AdultCerebellum</td><td>AdultCerebellum1</td><td>AdultCerebellum1_1</td><td>55Y</td><td>Adult</td><td>Microwell-seq</td><td>Female</td><td>HCL</td><td>AdultCerebellum</td><td>AdultCerebellum_55Y</td><td>1</td><td>Oligodendrocyte</td></tr>\n",
       "\t<tr><th scope=row>2</th><td>AdultCerebellum_1.CGAGTACGCACCGAGATC</td><td>AdultCerebellum</td><td>AdultCerebellum1</td><td>AdultCerebellum1_1</td><td>55Y</td><td>Adult</td><td>Microwell-seq</td><td>Female</td><td>HCL</td><td>AdultCerebellum</td><td>AdultCerebellum_55Y</td><td>1</td><td>Oligodendrocyte</td></tr>\n",
       "\t<tr><th scope=row>3</th><td>AdultCerebellum_1.GTATACGAATTAAATAAA</td><td>AdultCerebellum</td><td>AdultCerebellum1</td><td>AdultCerebellum1_1</td><td>55Y</td><td>Adult</td><td>Microwell-seq</td><td>Female</td><td>HCL</td><td>AdultCerebellum</td><td>AdultCerebellum_55Y</td><td>1</td><td>Oligodendrocyte</td></tr>\n",
       "\t<tr><th scope=row>4</th><td>AdultCerebellum_1.ATCTCTGCAGGATGCGGA</td><td>AdultCerebellum</td><td>AdultCerebellum1</td><td>AdultCerebellum1_1</td><td>55Y</td><td>Adult</td><td>Microwell-seq</td><td>Female</td><td>HCL</td><td>AdultCerebellum</td><td>AdultCerebellum_55Y</td><td>1</td><td>Oligodendrocyte</td></tr>\n",
       "\t<tr><th scope=row>5</th><td>AdultCerebellum_1.CGAGTACTGTGTGCGAAT</td><td>AdultCerebellum</td><td>AdultCerebellum1</td><td>AdultCerebellum1_1</td><td>55Y</td><td>Adult</td><td>Microwell-seq</td><td>Female</td><td>HCL</td><td>AdultCerebellum</td><td>AdultCerebellum_55Y</td><td>1</td><td>Oligodendrocyte</td></tr>\n",
       "\t<tr><th scope=row>6</th><td>AdultCerebellum_1.ACGAGCTAGAGACTCCAT</td><td>AdultCerebellum</td><td>AdultCerebellum1</td><td>AdultCerebellum1_1</td><td>55Y</td><td>Adult</td><td>Microwell-seq</td><td>Female</td><td>HCL</td><td>AdultCerebellum</td><td>AdultCerebellum_55Y</td><td>1</td><td>Oligodendrocyte</td></tr>\n",
       "</tbody>\n",
       "</table>\n"
      ],
      "text/latex": [
       "A data.frame: 6 × 13\n",
       "\\begin{tabular}{r|lllllllllllll}\n",
       "  & Cell\\_id & Sample & Batch & Cluster\\_id & Ages & Development\\_stage & Method & Gender & Source & Biomaterial & Name & ident & Celltype\\\\\n",
       "  & <chr> & <chr> & <chr> & <chr> & <chr> & <chr> & <chr> & <chr> & <chr> & <chr> & <chr> & <dbl> & <chr>\\\\\n",
       "\\hline\n",
       "\t1 & AdultCerebellum\\_1.ACGTTGCCAGACGATCTT & AdultCerebellum & AdultCerebellum1 & AdultCerebellum1\\_1 & 55Y & Adult & Microwell-seq & Female & HCL & AdultCerebellum & AdultCerebellum\\_55Y & 1 & Oligodendrocyte\\\\\n",
       "\t2 & AdultCerebellum\\_1.CGAGTACGCACCGAGATC & AdultCerebellum & AdultCerebellum1 & AdultCerebellum1\\_1 & 55Y & Adult & Microwell-seq & Female & HCL & AdultCerebellum & AdultCerebellum\\_55Y & 1 & Oligodendrocyte\\\\\n",
       "\t3 & AdultCerebellum\\_1.GTATACGAATTAAATAAA & AdultCerebellum & AdultCerebellum1 & AdultCerebellum1\\_1 & 55Y & Adult & Microwell-seq & Female & HCL & AdultCerebellum & AdultCerebellum\\_55Y & 1 & Oligodendrocyte\\\\\n",
       "\t4 & AdultCerebellum\\_1.ATCTCTGCAGGATGCGGA & AdultCerebellum & AdultCerebellum1 & AdultCerebellum1\\_1 & 55Y & Adult & Microwell-seq & Female & HCL & AdultCerebellum & AdultCerebellum\\_55Y & 1 & Oligodendrocyte\\\\\n",
       "\t5 & AdultCerebellum\\_1.CGAGTACTGTGTGCGAAT & AdultCerebellum & AdultCerebellum1 & AdultCerebellum1\\_1 & 55Y & Adult & Microwell-seq & Female & HCL & AdultCerebellum & AdultCerebellum\\_55Y & 1 & Oligodendrocyte\\\\\n",
       "\t6 & AdultCerebellum\\_1.ACGAGCTAGAGACTCCAT & AdultCerebellum & AdultCerebellum1 & AdultCerebellum1\\_1 & 55Y & Adult & Microwell-seq & Female & HCL & AdultCerebellum & AdultCerebellum\\_55Y & 1 & Oligodendrocyte\\\\\n",
       "\\end{tabular}\n"
      ],
      "text/markdown": [
       "\n",
       "A data.frame: 6 × 13\n",
       "\n",
       "| <!--/--> | Cell_id &lt;chr&gt; | Sample &lt;chr&gt; | Batch &lt;chr&gt; | Cluster_id &lt;chr&gt; | Ages &lt;chr&gt; | Development_stage &lt;chr&gt; | Method &lt;chr&gt; | Gender &lt;chr&gt; | Source &lt;chr&gt; | Biomaterial &lt;chr&gt; | Name &lt;chr&gt; | ident &lt;dbl&gt; | Celltype &lt;chr&gt; |\n",
       "|---|---|---|---|---|---|---|---|---|---|---|---|---|---|\n",
       "| 1 | AdultCerebellum_1.ACGTTGCCAGACGATCTT | AdultCerebellum | AdultCerebellum1 | AdultCerebellum1_1 | 55Y | Adult | Microwell-seq | Female | HCL | AdultCerebellum | AdultCerebellum_55Y | 1 | Oligodendrocyte |\n",
       "| 2 | AdultCerebellum_1.CGAGTACGCACCGAGATC | AdultCerebellum | AdultCerebellum1 | AdultCerebellum1_1 | 55Y | Adult | Microwell-seq | Female | HCL | AdultCerebellum | AdultCerebellum_55Y | 1 | Oligodendrocyte |\n",
       "| 3 | AdultCerebellum_1.GTATACGAATTAAATAAA | AdultCerebellum | AdultCerebellum1 | AdultCerebellum1_1 | 55Y | Adult | Microwell-seq | Female | HCL | AdultCerebellum | AdultCerebellum_55Y | 1 | Oligodendrocyte |\n",
       "| 4 | AdultCerebellum_1.ATCTCTGCAGGATGCGGA | AdultCerebellum | AdultCerebellum1 | AdultCerebellum1_1 | 55Y | Adult | Microwell-seq | Female | HCL | AdultCerebellum | AdultCerebellum_55Y | 1 | Oligodendrocyte |\n",
       "| 5 | AdultCerebellum_1.CGAGTACTGTGTGCGAAT | AdultCerebellum | AdultCerebellum1 | AdultCerebellum1_1 | 55Y | Adult | Microwell-seq | Female | HCL | AdultCerebellum | AdultCerebellum_55Y | 1 | Oligodendrocyte |\n",
       "| 6 | AdultCerebellum_1.ACGAGCTAGAGACTCCAT | AdultCerebellum | AdultCerebellum1 | AdultCerebellum1_1 | 55Y | Adult | Microwell-seq | Female | HCL | AdultCerebellum | AdultCerebellum_55Y | 1 | Oligodendrocyte |\n",
       "\n"
      ],
      "text/plain": [
       "  Cell_id                              Sample          Batch           \n",
       "1 AdultCerebellum_1.ACGTTGCCAGACGATCTT AdultCerebellum AdultCerebellum1\n",
       "2 AdultCerebellum_1.CGAGTACGCACCGAGATC AdultCerebellum AdultCerebellum1\n",
       "3 AdultCerebellum_1.GTATACGAATTAAATAAA AdultCerebellum AdultCerebellum1\n",
       "4 AdultCerebellum_1.ATCTCTGCAGGATGCGGA AdultCerebellum AdultCerebellum1\n",
       "5 AdultCerebellum_1.CGAGTACTGTGTGCGAAT AdultCerebellum AdultCerebellum1\n",
       "6 AdultCerebellum_1.ACGAGCTAGAGACTCCAT AdultCerebellum AdultCerebellum1\n",
       "  Cluster_id         Ages Development_stage Method        Gender Source\n",
       "1 AdultCerebellum1_1 55Y  Adult             Microwell-seq Female HCL   \n",
       "2 AdultCerebellum1_1 55Y  Adult             Microwell-seq Female HCL   \n",
       "3 AdultCerebellum1_1 55Y  Adult             Microwell-seq Female HCL   \n",
       "4 AdultCerebellum1_1 55Y  Adult             Microwell-seq Female HCL   \n",
       "5 AdultCerebellum1_1 55Y  Adult             Microwell-seq Female HCL   \n",
       "6 AdultCerebellum1_1 55Y  Adult             Microwell-seq Female HCL   \n",
       "  Biomaterial     Name                ident Celltype       \n",
       "1 AdultCerebellum AdultCerebellum_55Y 1     Oligodendrocyte\n",
       "2 AdultCerebellum AdultCerebellum_55Y 1     Oligodendrocyte\n",
       "3 AdultCerebellum AdultCerebellum_55Y 1     Oligodendrocyte\n",
       "4 AdultCerebellum AdultCerebellum_55Y 1     Oligodendrocyte\n",
       "5 AdultCerebellum AdultCerebellum_55Y 1     Oligodendrocyte\n",
       "6 AdultCerebellum AdultCerebellum_55Y 1     Oligodendrocyte"
      ]
     },
     "metadata": {},
     "output_type": "display_data"
    }
   ],
   "source": [
    "head(allTraits)"
   ]
  },
  {
   "cell_type": "code",
   "execution_count": 8,
   "metadata": {
    "vscode": {
     "languageId": "r"
    }
   },
   "outputs": [
    {
     "data": {
      "text/html": [
       "<table class=\"dataframe\">\n",
       "<caption>A data.frame: 6 × 2</caption>\n",
       "<thead>\n",
       "\t<tr><th></th><th scope=col>Biomaterial</th><th scope=col>Celltype</th></tr>\n",
       "\t<tr><th></th><th scope=col>&lt;chr&gt;</th><th scope=col>&lt;chr&gt;</th></tr>\n",
       "</thead>\n",
       "<tbody>\n",
       "\t<tr><th scope=row>AdultCerebellum_1.ACGTTGCCAGACGATCTT</th><td>AdultCerebellum</td><td>Oligodendrocyte</td></tr>\n",
       "\t<tr><th scope=row>AdultCerebellum_1.CGAGTACGCACCGAGATC</th><td>AdultCerebellum</td><td>Oligodendrocyte</td></tr>\n",
       "\t<tr><th scope=row>AdultCerebellum_1.GTATACGAATTAAATAAA</th><td>AdultCerebellum</td><td>Oligodendrocyte</td></tr>\n",
       "\t<tr><th scope=row>AdultCerebellum_1.ATCTCTGCAGGATGCGGA</th><td>AdultCerebellum</td><td>Oligodendrocyte</td></tr>\n",
       "\t<tr><th scope=row>AdultCerebellum_1.CGAGTACTGTGTGCGAAT</th><td>AdultCerebellum</td><td>Oligodendrocyte</td></tr>\n",
       "\t<tr><th scope=row>AdultCerebellum_1.ACGAGCTAGAGACTCCAT</th><td>AdultCerebellum</td><td>Oligodendrocyte</td></tr>\n",
       "</tbody>\n",
       "</table>\n"
      ],
      "text/latex": [
       "A data.frame: 6 × 2\n",
       "\\begin{tabular}{r|ll}\n",
       "  & Biomaterial & Celltype\\\\\n",
       "  & <chr> & <chr>\\\\\n",
       "\\hline\n",
       "\tAdultCerebellum\\_1.ACGTTGCCAGACGATCTT & AdultCerebellum & Oligodendrocyte\\\\\n",
       "\tAdultCerebellum\\_1.CGAGTACGCACCGAGATC & AdultCerebellum & Oligodendrocyte\\\\\n",
       "\tAdultCerebellum\\_1.GTATACGAATTAAATAAA & AdultCerebellum & Oligodendrocyte\\\\\n",
       "\tAdultCerebellum\\_1.ATCTCTGCAGGATGCGGA & AdultCerebellum & Oligodendrocyte\\\\\n",
       "\tAdultCerebellum\\_1.CGAGTACTGTGTGCGAAT & AdultCerebellum & Oligodendrocyte\\\\\n",
       "\tAdultCerebellum\\_1.ACGAGCTAGAGACTCCAT & AdultCerebellum & Oligodendrocyte\\\\\n",
       "\\end{tabular}\n"
      ],
      "text/markdown": [
       "\n",
       "A data.frame: 6 × 2\n",
       "\n",
       "| <!--/--> | Biomaterial &lt;chr&gt; | Celltype &lt;chr&gt; |\n",
       "|---|---|---|\n",
       "| AdultCerebellum_1.ACGTTGCCAGACGATCTT | AdultCerebellum | Oligodendrocyte |\n",
       "| AdultCerebellum_1.CGAGTACGCACCGAGATC | AdultCerebellum | Oligodendrocyte |\n",
       "| AdultCerebellum_1.GTATACGAATTAAATAAA | AdultCerebellum | Oligodendrocyte |\n",
       "| AdultCerebellum_1.ATCTCTGCAGGATGCGGA | AdultCerebellum | Oligodendrocyte |\n",
       "| AdultCerebellum_1.CGAGTACTGTGTGCGAAT | AdultCerebellum | Oligodendrocyte |\n",
       "| AdultCerebellum_1.ACGAGCTAGAGACTCCAT | AdultCerebellum | Oligodendrocyte |\n",
       "\n"
      ],
      "text/plain": [
       "                                     Biomaterial     Celltype       \n",
       "AdultCerebellum_1.ACGTTGCCAGACGATCTT AdultCerebellum Oligodendrocyte\n",
       "AdultCerebellum_1.CGAGTACGCACCGAGATC AdultCerebellum Oligodendrocyte\n",
       "AdultCerebellum_1.GTATACGAATTAAATAAA AdultCerebellum Oligodendrocyte\n",
       "AdultCerebellum_1.ATCTCTGCAGGATGCGGA AdultCerebellum Oligodendrocyte\n",
       "AdultCerebellum_1.CGAGTACTGTGTGCGAAT AdultCerebellum Oligodendrocyte\n",
       "AdultCerebellum_1.ACGAGCTAGAGACTCCAT AdultCerebellum Oligodendrocyte"
      ]
     },
     "metadata": {},
     "output_type": "display_data"
    }
   ],
   "source": [
    "labels <- c('Biomaterial', 'Celltype')\n",
    "datTraits <- allTraits[,labels]\n",
    "rownames(datTraits) <- allTraits$Cell_id #<--CHECK\n",
    "datTraits <- datTraits[rownames(datExpr),]\n",
    "head(datTraits)"
   ]
  },
  {
   "cell_type": "code",
   "execution_count": 9,
   "metadata": {
    "vscode": {
     "languageId": "r"
    }
   },
   "outputs": [
    {
     "data": {
      "text/plain": [
       "\n",
       "FALSE \n",
       " 2000 "
      ]
     },
     "metadata": {},
     "output_type": "display_data"
    }
   ],
   "source": [
    "table(dimnames(datExpr)[[1]]==datTraits$Biomaterial)"
   ]
  },
  {
   "cell_type": "code",
   "execution_count": 10,
   "metadata": {
    "vscode": {
     "languageId": "r"
    }
   },
   "outputs": [],
   "source": [
    "y = datTraits$Biomaterial"
   ]
  },
  {
   "cell_type": "code",
   "execution_count": 11,
   "metadata": {
    "vscode": {
     "languageId": "r"
    }
   },
   "outputs": [],
   "source": [
    "meanExpressionBySample=apply( datExpr,1,mean, na.rm=T)\n",
    "NumberMissingBySample=apply( is.na(data.frame(datExpr)),1, sum)"
   ]
  },
  {
   "cell_type": "markdown",
   "metadata": {},
   "source": [
    "## 1"
   ]
  },
  {
   "cell_type": "code",
   "execution_count": 13,
   "metadata": {
    "vscode": {
     "languageId": "r"
    }
   },
   "outputs": [
    {
     "name": "stdout",
     "output_type": "stream",
     "text": [
      " Flagging genes and samples with too many missing values...\n",
      "  ..step 1\n"
     ]
    },
    {
     "data": {
      "text/html": [
       "TRUE"
      ],
      "text/latex": [
       "TRUE"
      ],
      "text/markdown": [
       "TRUE"
      ],
      "text/plain": [
       "[1] TRUE"
      ]
     },
     "metadata": {},
     "output_type": "display_data"
    }
   ],
   "source": [
    "gsg = goodSamplesGenes(datExpr, verbose = 3);\n",
    "gsg$allOK"
   ]
  },
  {
   "cell_type": "code",
   "execution_count": 14,
   "metadata": {
    "vscode": {
     "languageId": "r"
    }
   },
   "outputs": [
    {
     "data": {
      "text/html": [
       "<strong>png:</strong> 2"
      ],
      "text/latex": [
       "\\textbf{png:} 2"
      ],
      "text/markdown": [
       "**png:** 2"
      ],
      "text/plain": [
       "png \n",
       "  2 "
      ]
     },
     "metadata": {},
     "output_type": "display_data"
    }
   ],
   "source": [
    "sampleTree = hclust(dist(datExpr), method = \"average\");\n",
    "# Plot the sample tree: Open a graphic output window of size 12 by 9 inches\n",
    "# The user should change the dimensions if the window is too large or too small.\n",
    "sizeGrWindow(12,9)\n",
    "svg(\"samplehier.svg\")\n",
    "par(cex = 0.6);\n",
    "par(mar = c(0,4,2,0))\n",
    "plot(sampleTree, main = \"Sample clustering to detect outliers\", sub=\"\", xlab=\"\", cex.lab = 1.5,\n",
    "cex.axis = 1.5, cex.main = 2)\n",
    "dev.off()"
   ]
  },
  {
   "cell_type": "code",
   "execution_count": 16,
   "metadata": {
    "vscode": {
     "languageId": "r"
    }
   },
   "outputs": [
    {
     "data": {
      "text/plain": [
       "clust\n",
       "   0    1 \n",
       "  64 1936 "
      ]
     },
     "metadata": {},
     "output_type": "display_data"
    }
   ],
   "source": [
    "# Determine cluster under the line\n",
    "clust = cutreeStatic(sampleTree, cutHeight = 15, minSize = 10)\n",
    "table(clust)"
   ]
  },
  {
   "cell_type": "code",
   "execution_count": 17,
   "metadata": {
    "vscode": {
     "languageId": "r"
    }
   },
   "outputs": [],
   "source": [
    "# clust 1 contains the samples we want to keep.\n",
    "keepSamples = (clust==1)\n",
    "datExpr = datExpr[keepSamples, ]\n",
    "nGenes = ncol(datExpr)\n",
    "nSamples = nrow(datExpr)\n",
    "\n",
    "genes <- dimnames(datExpr)[[2]]\n",
    "samples <- dimnames(datExpr)[[1]]\n",
    "datExpr <- as.data.frame(apply(datExpr,2, as.numeric)) #numeric\n",
    "dimnames(datExpr)[[1]] <- samples"
   ]
  },
  {
   "cell_type": "code",
   "execution_count": 18,
   "metadata": {
    "vscode": {
     "languageId": "r"
    }
   },
   "outputs": [
    {
     "data": {
      "text/html": [
       "<table class=\"dataframe\">\n",
       "<caption>A data.frame: 6 × 3001</caption>\n",
       "<thead>\n",
       "\t<tr><th></th><th scope=col>A2M</th><th scope=col>AAMP</th><th scope=col>AASDHPPT</th><th scope=col>AB019441.29</th><th scope=col>ABAT</th><th scope=col>ABCA1</th><th scope=col>ABCA2</th><th scope=col>ABCA6</th><th scope=col>ABCA9</th><th scope=col>ABCB7</th><th scope=col>⋯</th><th scope=col>ZNF791</th><th scope=col>ZNF830</th><th scope=col>ZNF880</th><th scope=col>ZNFX1</th><th scope=col>ZNRD1</th><th scope=col>ZNRF1</th><th scope=col>ZSCAN18</th><th scope=col>ZSCAN30</th><th scope=col>ZSCAN9</th><th scope=col>ZWINT</th></tr>\n",
       "\t<tr><th></th><th scope=col>&lt;dbl&gt;</th><th scope=col>&lt;dbl&gt;</th><th scope=col>&lt;dbl&gt;</th><th scope=col>&lt;dbl&gt;</th><th scope=col>&lt;dbl&gt;</th><th scope=col>&lt;dbl&gt;</th><th scope=col>&lt;dbl&gt;</th><th scope=col>&lt;dbl&gt;</th><th scope=col>&lt;dbl&gt;</th><th scope=col>&lt;dbl&gt;</th><th scope=col>⋯</th><th scope=col>&lt;dbl&gt;</th><th scope=col>&lt;dbl&gt;</th><th scope=col>&lt;dbl&gt;</th><th scope=col>&lt;dbl&gt;</th><th scope=col>&lt;dbl&gt;</th><th scope=col>&lt;dbl&gt;</th><th scope=col>&lt;dbl&gt;</th><th scope=col>&lt;dbl&gt;</th><th scope=col>&lt;dbl&gt;</th><th scope=col>&lt;dbl&gt;</th></tr>\n",
       "</thead>\n",
       "<tbody>\n",
       "\t<tr><th scope=row>AdultCerebellum_1.ACGTTGCCAGACGATCTT</th><td>0</td><td>0</td><td>0.0000000</td><td>0</td><td>0</td><td>0</td><td>0.7597074</td><td>0</td><td>0</td><td>0</td><td>⋯</td><td>0</td><td>0</td><td>0</td><td>0</td><td>0</td><td>0</td><td>0</td><td>0</td><td>0</td><td>0</td></tr>\n",
       "\t<tr><th scope=row>AdultCerebellum_1.CGAGTACGCACCGAGATC</th><td>0</td><td>0</td><td>0.0000000</td><td>0</td><td>0</td><td>0</td><td>1.0694357</td><td>0</td><td>0</td><td>0</td><td>⋯</td><td>0</td><td>0</td><td>0</td><td>0</td><td>0</td><td>0</td><td>0</td><td>0</td><td>0</td><td>0</td></tr>\n",
       "\t<tr><th scope=row>AdultCerebellum_1.GTATACGAATTAAATAAA</th><td>0</td><td>0</td><td>0.0000000</td><td>0</td><td>0</td><td>0</td><td>1.2547720</td><td>0</td><td>0</td><td>0</td><td>⋯</td><td>0</td><td>0</td><td>0</td><td>0</td><td>0</td><td>0</td><td>0</td><td>0</td><td>0</td><td>0</td></tr>\n",
       "\t<tr><th scope=row>AdultCerebellum_1.ATCTCTGCAGGATGCGGA</th><td>0</td><td>0</td><td>0.0000000</td><td>0</td><td>0</td><td>0</td><td>0.7597074</td><td>0</td><td>0</td><td>0</td><td>⋯</td><td>0</td><td>0</td><td>0</td><td>0</td><td>0</td><td>0</td><td>0</td><td>0</td><td>0</td><td>0</td></tr>\n",
       "\t<tr><th scope=row>AdultCerebellum_1.ACGAGCTAGAGACTCCAT</th><td>0</td><td>0</td><td>0.7597074</td><td>0</td><td>0</td><td>0</td><td>0.0000000</td><td>0</td><td>0</td><td>0</td><td>⋯</td><td>0</td><td>0</td><td>0</td><td>0</td><td>0</td><td>0</td><td>0</td><td>0</td><td>0</td><td>0</td></tr>\n",
       "\t<tr><th scope=row>AdultCerebellum_1.ATCAACAAAGTTTAAGGG</th><td>0</td><td>0</td><td>0.0000000</td><td>0</td><td>0</td><td>0</td><td>1.2547720</td><td>0</td><td>0</td><td>0</td><td>⋯</td><td>0</td><td>0</td><td>0</td><td>0</td><td>0</td><td>0</td><td>0</td><td>0</td><td>0</td><td>0</td></tr>\n",
       "</tbody>\n",
       "</table>\n"
      ],
      "text/latex": [
       "A data.frame: 6 × 3001\n",
       "\\begin{tabular}{r|lllllllllllllllllllll}\n",
       "  & A2M & AAMP & AASDHPPT & AB019441.29 & ABAT & ABCA1 & ABCA2 & ABCA6 & ABCA9 & ABCB7 & ⋯ & ZNF791 & ZNF830 & ZNF880 & ZNFX1 & ZNRD1 & ZNRF1 & ZSCAN18 & ZSCAN30 & ZSCAN9 & ZWINT\\\\\n",
       "  & <dbl> & <dbl> & <dbl> & <dbl> & <dbl> & <dbl> & <dbl> & <dbl> & <dbl> & <dbl> & ⋯ & <dbl> & <dbl> & <dbl> & <dbl> & <dbl> & <dbl> & <dbl> & <dbl> & <dbl> & <dbl>\\\\\n",
       "\\hline\n",
       "\tAdultCerebellum\\_1.ACGTTGCCAGACGATCTT & 0 & 0 & 0.0000000 & 0 & 0 & 0 & 0.7597074 & 0 & 0 & 0 & ⋯ & 0 & 0 & 0 & 0 & 0 & 0 & 0 & 0 & 0 & 0\\\\\n",
       "\tAdultCerebellum\\_1.CGAGTACGCACCGAGATC & 0 & 0 & 0.0000000 & 0 & 0 & 0 & 1.0694357 & 0 & 0 & 0 & ⋯ & 0 & 0 & 0 & 0 & 0 & 0 & 0 & 0 & 0 & 0\\\\\n",
       "\tAdultCerebellum\\_1.GTATACGAATTAAATAAA & 0 & 0 & 0.0000000 & 0 & 0 & 0 & 1.2547720 & 0 & 0 & 0 & ⋯ & 0 & 0 & 0 & 0 & 0 & 0 & 0 & 0 & 0 & 0\\\\\n",
       "\tAdultCerebellum\\_1.ATCTCTGCAGGATGCGGA & 0 & 0 & 0.0000000 & 0 & 0 & 0 & 0.7597074 & 0 & 0 & 0 & ⋯ & 0 & 0 & 0 & 0 & 0 & 0 & 0 & 0 & 0 & 0\\\\\n",
       "\tAdultCerebellum\\_1.ACGAGCTAGAGACTCCAT & 0 & 0 & 0.7597074 & 0 & 0 & 0 & 0.0000000 & 0 & 0 & 0 & ⋯ & 0 & 0 & 0 & 0 & 0 & 0 & 0 & 0 & 0 & 0\\\\\n",
       "\tAdultCerebellum\\_1.ATCAACAAAGTTTAAGGG & 0 & 0 & 0.0000000 & 0 & 0 & 0 & 1.2547720 & 0 & 0 & 0 & ⋯ & 0 & 0 & 0 & 0 & 0 & 0 & 0 & 0 & 0 & 0\\\\\n",
       "\\end{tabular}\n"
      ],
      "text/markdown": [
       "\n",
       "A data.frame: 6 × 3001\n",
       "\n",
       "| <!--/--> | A2M &lt;dbl&gt; | AAMP &lt;dbl&gt; | AASDHPPT &lt;dbl&gt; | AB019441.29 &lt;dbl&gt; | ABAT &lt;dbl&gt; | ABCA1 &lt;dbl&gt; | ABCA2 &lt;dbl&gt; | ABCA6 &lt;dbl&gt; | ABCA9 &lt;dbl&gt; | ABCB7 &lt;dbl&gt; | ⋯ ⋯ | ZNF791 &lt;dbl&gt; | ZNF830 &lt;dbl&gt; | ZNF880 &lt;dbl&gt; | ZNFX1 &lt;dbl&gt; | ZNRD1 &lt;dbl&gt; | ZNRF1 &lt;dbl&gt; | ZSCAN18 &lt;dbl&gt; | ZSCAN30 &lt;dbl&gt; | ZSCAN9 &lt;dbl&gt; | ZWINT &lt;dbl&gt; |\n",
       "|---|---|---|---|---|---|---|---|---|---|---|---|---|---|---|---|---|---|---|---|---|---|\n",
       "| AdultCerebellum_1.ACGTTGCCAGACGATCTT | 0 | 0 | 0.0000000 | 0 | 0 | 0 | 0.7597074 | 0 | 0 | 0 | ⋯ | 0 | 0 | 0 | 0 | 0 | 0 | 0 | 0 | 0 | 0 |\n",
       "| AdultCerebellum_1.CGAGTACGCACCGAGATC | 0 | 0 | 0.0000000 | 0 | 0 | 0 | 1.0694357 | 0 | 0 | 0 | ⋯ | 0 | 0 | 0 | 0 | 0 | 0 | 0 | 0 | 0 | 0 |\n",
       "| AdultCerebellum_1.GTATACGAATTAAATAAA | 0 | 0 | 0.0000000 | 0 | 0 | 0 | 1.2547720 | 0 | 0 | 0 | ⋯ | 0 | 0 | 0 | 0 | 0 | 0 | 0 | 0 | 0 | 0 |\n",
       "| AdultCerebellum_1.ATCTCTGCAGGATGCGGA | 0 | 0 | 0.0000000 | 0 | 0 | 0 | 0.7597074 | 0 | 0 | 0 | ⋯ | 0 | 0 | 0 | 0 | 0 | 0 | 0 | 0 | 0 | 0 |\n",
       "| AdultCerebellum_1.ACGAGCTAGAGACTCCAT | 0 | 0 | 0.7597074 | 0 | 0 | 0 | 0.0000000 | 0 | 0 | 0 | ⋯ | 0 | 0 | 0 | 0 | 0 | 0 | 0 | 0 | 0 | 0 |\n",
       "| AdultCerebellum_1.ATCAACAAAGTTTAAGGG | 0 | 0 | 0.0000000 | 0 | 0 | 0 | 1.2547720 | 0 | 0 | 0 | ⋯ | 0 | 0 | 0 | 0 | 0 | 0 | 0 | 0 | 0 | 0 |\n",
       "\n"
      ],
      "text/plain": [
       "                                     A2M AAMP AASDHPPT  AB019441.29 ABAT ABCA1\n",
       "AdultCerebellum_1.ACGTTGCCAGACGATCTT 0   0    0.0000000 0           0    0    \n",
       "AdultCerebellum_1.CGAGTACGCACCGAGATC 0   0    0.0000000 0           0    0    \n",
       "AdultCerebellum_1.GTATACGAATTAAATAAA 0   0    0.0000000 0           0    0    \n",
       "AdultCerebellum_1.ATCTCTGCAGGATGCGGA 0   0    0.0000000 0           0    0    \n",
       "AdultCerebellum_1.ACGAGCTAGAGACTCCAT 0   0    0.7597074 0           0    0    \n",
       "AdultCerebellum_1.ATCAACAAAGTTTAAGGG 0   0    0.0000000 0           0    0    \n",
       "                                     ABCA2     ABCA6 ABCA9 ABCB7 ⋯ ZNF791\n",
       "AdultCerebellum_1.ACGTTGCCAGACGATCTT 0.7597074 0     0     0     ⋯ 0     \n",
       "AdultCerebellum_1.CGAGTACGCACCGAGATC 1.0694357 0     0     0     ⋯ 0     \n",
       "AdultCerebellum_1.GTATACGAATTAAATAAA 1.2547720 0     0     0     ⋯ 0     \n",
       "AdultCerebellum_1.ATCTCTGCAGGATGCGGA 0.7597074 0     0     0     ⋯ 0     \n",
       "AdultCerebellum_1.ACGAGCTAGAGACTCCAT 0.0000000 0     0     0     ⋯ 0     \n",
       "AdultCerebellum_1.ATCAACAAAGTTTAAGGG 1.2547720 0     0     0     ⋯ 0     \n",
       "                                     ZNF830 ZNF880 ZNFX1 ZNRD1 ZNRF1 ZSCAN18\n",
       "AdultCerebellum_1.ACGTTGCCAGACGATCTT 0      0      0     0     0     0      \n",
       "AdultCerebellum_1.CGAGTACGCACCGAGATC 0      0      0     0     0     0      \n",
       "AdultCerebellum_1.GTATACGAATTAAATAAA 0      0      0     0     0     0      \n",
       "AdultCerebellum_1.ATCTCTGCAGGATGCGGA 0      0      0     0     0     0      \n",
       "AdultCerebellum_1.ACGAGCTAGAGACTCCAT 0      0      0     0     0     0      \n",
       "AdultCerebellum_1.ATCAACAAAGTTTAAGGG 0      0      0     0     0     0      \n",
       "                                     ZSCAN30 ZSCAN9 ZWINT\n",
       "AdultCerebellum_1.ACGTTGCCAGACGATCTT 0       0      0    \n",
       "AdultCerebellum_1.CGAGTACGCACCGAGATC 0       0      0    \n",
       "AdultCerebellum_1.GTATACGAATTAAATAAA 0       0      0    \n",
       "AdultCerebellum_1.ATCTCTGCAGGATGCGGA 0       0      0    \n",
       "AdultCerebellum_1.ACGAGCTAGAGACTCCAT 0       0      0    \n",
       "AdultCerebellum_1.ATCAACAAAGTTTAAGGG 0       0      0    "
      ]
     },
     "metadata": {},
     "output_type": "display_data"
    }
   ],
   "source": [
    "head(datExpr)"
   ]
  },
  {
   "cell_type": "code",
   "execution_count": 19,
   "metadata": {
    "vscode": {
     "languageId": "r"
    }
   },
   "outputs": [
    {
     "data": {
      "text/html": [
       "<table class=\"dataframe\">\n",
       "<caption>A data.frame: 6 × 2</caption>\n",
       "<thead>\n",
       "\t<tr><th></th><th scope=col>Biomaterial</th><th scope=col>Celltype</th></tr>\n",
       "\t<tr><th></th><th scope=col>&lt;chr&gt;</th><th scope=col>&lt;chr&gt;</th></tr>\n",
       "</thead>\n",
       "<tbody>\n",
       "\t<tr><th scope=row>AdultCerebellum_1.ACGTTGCCAGACGATCTT</th><td>AdultCerebellum</td><td>Oligodendrocyte</td></tr>\n",
       "\t<tr><th scope=row>AdultCerebellum_1.CGAGTACGCACCGAGATC</th><td>AdultCerebellum</td><td>Oligodendrocyte</td></tr>\n",
       "\t<tr><th scope=row>AdultCerebellum_1.GTATACGAATTAAATAAA</th><td>AdultCerebellum</td><td>Oligodendrocyte</td></tr>\n",
       "\t<tr><th scope=row>AdultCerebellum_1.ATCTCTGCAGGATGCGGA</th><td>AdultCerebellum</td><td>Oligodendrocyte</td></tr>\n",
       "\t<tr><th scope=row>AdultCerebellum_1.ACGAGCTAGAGACTCCAT</th><td>AdultCerebellum</td><td>Oligodendrocyte</td></tr>\n",
       "\t<tr><th scope=row>AdultCerebellum_1.ATCAACAAAGTTTAAGGG</th><td>AdultCerebellum</td><td>Oligodendrocyte</td></tr>\n",
       "</tbody>\n",
       "</table>\n"
      ],
      "text/latex": [
       "A data.frame: 6 × 2\n",
       "\\begin{tabular}{r|ll}\n",
       "  & Biomaterial & Celltype\\\\\n",
       "  & <chr> & <chr>\\\\\n",
       "\\hline\n",
       "\tAdultCerebellum\\_1.ACGTTGCCAGACGATCTT & AdultCerebellum & Oligodendrocyte\\\\\n",
       "\tAdultCerebellum\\_1.CGAGTACGCACCGAGATC & AdultCerebellum & Oligodendrocyte\\\\\n",
       "\tAdultCerebellum\\_1.GTATACGAATTAAATAAA & AdultCerebellum & Oligodendrocyte\\\\\n",
       "\tAdultCerebellum\\_1.ATCTCTGCAGGATGCGGA & AdultCerebellum & Oligodendrocyte\\\\\n",
       "\tAdultCerebellum\\_1.ACGAGCTAGAGACTCCAT & AdultCerebellum & Oligodendrocyte\\\\\n",
       "\tAdultCerebellum\\_1.ATCAACAAAGTTTAAGGG & AdultCerebellum & Oligodendrocyte\\\\\n",
       "\\end{tabular}\n"
      ],
      "text/markdown": [
       "\n",
       "A data.frame: 6 × 2\n",
       "\n",
       "| <!--/--> | Biomaterial &lt;chr&gt; | Celltype &lt;chr&gt; |\n",
       "|---|---|---|\n",
       "| AdultCerebellum_1.ACGTTGCCAGACGATCTT | AdultCerebellum | Oligodendrocyte |\n",
       "| AdultCerebellum_1.CGAGTACGCACCGAGATC | AdultCerebellum | Oligodendrocyte |\n",
       "| AdultCerebellum_1.GTATACGAATTAAATAAA | AdultCerebellum | Oligodendrocyte |\n",
       "| AdultCerebellum_1.ATCTCTGCAGGATGCGGA | AdultCerebellum | Oligodendrocyte |\n",
       "| AdultCerebellum_1.ACGAGCTAGAGACTCCAT | AdultCerebellum | Oligodendrocyte |\n",
       "| AdultCerebellum_1.ATCAACAAAGTTTAAGGG | AdultCerebellum | Oligodendrocyte |\n",
       "\n"
      ],
      "text/plain": [
       "                                     Biomaterial     Celltype       \n",
       "AdultCerebellum_1.ACGTTGCCAGACGATCTT AdultCerebellum Oligodendrocyte\n",
       "AdultCerebellum_1.CGAGTACGCACCGAGATC AdultCerebellum Oligodendrocyte\n",
       "AdultCerebellum_1.GTATACGAATTAAATAAA AdultCerebellum Oligodendrocyte\n",
       "AdultCerebellum_1.ATCTCTGCAGGATGCGGA AdultCerebellum Oligodendrocyte\n",
       "AdultCerebellum_1.ACGAGCTAGAGACTCCAT AdultCerebellum Oligodendrocyte\n",
       "AdultCerebellum_1.ATCAACAAAGTTTAAGGG AdultCerebellum Oligodendrocyte"
      ]
     },
     "metadata": {},
     "output_type": "display_data"
    }
   ],
   "source": [
    "rownames(allTraits) <- allTraits$Cell_id\n",
    "datTraits <- allTraits[keepSamples,labels]\n",
    "rownames(datTraits) <- rownames(allTraits[keepSamples,labels])\n",
    "datTraits <- datTraits[rownames(datExpr),]\n",
    "head(datTraits)"
   ]
  },
  {
   "cell_type": "code",
   "execution_count": 20,
   "metadata": {
    "vscode": {
     "languageId": "r"
    }
   },
   "outputs": [],
   "source": [
    "collectGarbage();"
   ]
  },
  {
   "cell_type": "code",
   "execution_count": 21,
   "metadata": {
    "vscode": {
     "languageId": "r"
    }
   },
   "outputs": [
    {
     "data": {
      "text/html": [
       "<strong>pdf:</strong> 2"
      ],
      "text/latex": [
       "\\textbf{pdf:} 2"
      ],
      "text/markdown": [
       "**pdf:** 2"
      ],
      "text/plain": [
       "pdf \n",
       "  2 "
      ]
     },
     "metadata": {},
     "output_type": "display_data"
    }
   ],
   "source": [
    "# Re-cluster samples\n",
    "sampleTree2 = hclust(dist(datExpr), method = \"average\")\n",
    "fontsize=.5\n",
    "# Convert traits to a color representation: white means low, red means high, grey means missing entry\n",
    "traitColors = labels2colors(datTraits);\n",
    "# Plot the sample dendrogram and the colors underneath.\n",
    "pdf(\"samplehiercut.pdf\")\n",
    "plotDendroAndColors(sampleTree2, traitColors,\n",
    "    groupLabels = labels,\n",
    "    main = \"Sample dendrogram and trait heatmap\",\n",
    "    dendroLabels=FALSE,\n",
    "    rowText=datTraits,\n",
    "    rowTextIgnore=labels[[2]]\n",
    "    )\n",
    "dev.off()"
   ]
  },
  {
   "cell_type": "markdown",
   "metadata": {},
   "source": [
    "## 2"
   ]
  },
  {
   "cell_type": "code",
   "execution_count": 22,
   "metadata": {
    "vscode": {
     "languageId": "r"
    }
   },
   "outputs": [
    {
     "name": "stdout",
     "output_type": "stream",
     "text": [
      "pickSoftThreshold: will use block size 3001.\n",
      " pickSoftThreshold: calculating connectivity for given powers...\n",
      "   ..working on genes 1 through 3001 of 3001\n",
      "   Power SFT.R.sq  slope truncated.R.sq  mean.k. median.k.   max.k.\n",
      "1      1   0.0471 -0.800         0.8680 6.62e+01  6.20e+01 1.67e+02\n",
      "2      2   0.9860 -3.010         0.9970 2.93e+00  2.21e+00 2.15e+01\n",
      "3      3   0.9600 -2.170         0.9690 2.67e-01  1.26e-01 5.74e+00\n",
      "4      4   0.3980 -2.450         0.3490 4.70e-02  1.00e-02 2.45e+00\n",
      "5      5   0.9470 -1.550         0.9540 1.34e-02  9.86e-04 1.28e+00\n",
      "6      6   0.4100 -1.920         0.3540 5.10e-03  1.11e-04 7.27e-01\n",
      "7      7   0.4120 -1.790         0.3620 2.32e-03  1.41e-05 4.33e-01\n",
      "8      8   0.3640 -2.030         0.3400 1.18e-03  1.88e-06 2.66e-01\n",
      "9      9   0.3660 -1.930         0.3480 6.47e-04  2.65e-07 1.67e-01\n",
      "10    10   0.3670 -2.120         0.3430 3.75e-04  3.82e-08 1.07e-01\n",
      "11    12   0.3520 -1.720         0.3230 1.40e-04  8.86e-10 4.47e-02\n",
      "12    14   0.3840 -1.330         0.2860 5.75e-05  2.17e-11 1.93e-02\n",
      "13    16   0.9430 -0.996         0.9480 2.50e-05  5.53e-13 8.53e-03\n",
      "14    18   0.2490 -1.520         0.0523 1.13e-05  1.47e-14 3.98e-03\n",
      "15    20   0.2140 -1.220         0.1440 5.25e-06  4.44e-16 2.09e-03\n",
      "16    22   0.3020 -1.380         0.1050 2.49e-06  0.00e+00 1.10e-03\n",
      "17    24   0.3330 -1.590         0.1780 1.20e-06  0.00e+00 5.82e-04\n",
      "18    26   0.3340 -1.580         0.1950 5.86e-07  0.00e+00 3.09e-04\n",
      "19    28   0.3510 -1.690         0.1940 2.89e-07  0.00e+00 1.64e-04\n",
      "20    30   0.3500 -1.640         0.2010 1.44e-07  0.00e+00 8.74e-05\n",
      "21    32   0.3720 -1.640         0.3300 7.22e-08  0.00e+00 4.66e-05\n",
      "22    34   0.3970 -1.780         0.3190 3.64e-08  0.00e+00 2.49e-05\n",
      "23    36   0.3980 -1.810         0.2450 1.85e-08  0.00e+00 1.33e-05\n",
      "24    38   0.4070 -1.790         0.2600 9.42e-09  0.00e+00 7.11e-06\n",
      "25    40   0.4150 -1.770         0.2730 4.82e-09  0.00e+00 3.80e-06\n",
      "26    42   0.4320 -1.780         0.2700 2.48e-09  0.00e+00 2.03e-06\n",
      "27    44   0.4420 -1.970         0.2840 1.28e-09  0.00e+00 1.09e-06\n",
      "28    46   0.4490 -2.070         0.2950 6.60e-10  0.00e+00 5.82e-07\n",
      "29    48   0.4560 -2.050         0.3030 3.42e-10  0.00e+00 3.12e-07\n",
      "30    50   0.4630 -2.080         0.3140 1.78e-10  0.00e+00 1.67e-07\n"
     ]
    },
    {
     "data": {
      "text/html": [
       "<strong>png:</strong> 2"
      ],
      "text/latex": [
       "\\textbf{png:} 2"
      ],
      "text/markdown": [
       "**png:** 2"
      ],
      "text/plain": [
       "png \n",
       "  2 "
      ]
     },
     "metadata": {},
     "output_type": "display_data"
    }
   ],
   "source": [
    "# Choose a set of soft-thresholding powers\n",
    "powers = c(c(1:10), seq(from = 12, to=50, by=2))\n",
    "# Call the network topology analysis function\n",
    "sft = pickSoftThreshold(datExpr, powerVector = powers, verbose = 5)\n",
    "# Plot the results:\n",
    "sizeGrWindow(9, 5)\n",
    "pdf(\"scaletopology.pdf\")\n",
    "par(mfrow = c(1,2));\n",
    "cex1 = 0.9;\n",
    "# Scale-free topology fit index as a function of the soft-thresholding power\n",
    "plot(sft$fitIndices[,1], -sign(sft$fitIndices[,3])*sft$fitIndices[,2],\n",
    "xlab=\"Soft Threshold (power)\",ylab=\"Scale Free Topology Model Fit,signed R^2\",type=\"n\",\n",
    "main = paste(\"Scale independence\"));\n",
    "text(sft$fitIndices[,1], -sign(sft$fitIndices[,3])*sft$fitIndices[,2],\n",
    "labels=powers,cex=cex1,col=\"red\");\n",
    "# this line corresponds to using an R^2 cut-off of h\n",
    "abline(h=0.90,col=\"red\")\n",
    "# Mean connectivity as a function of the soft-thresholding power\n",
    "plot(sft$fitIndices[,1], sft$fitIndices[,5],\n",
    "xlab=\"Soft Threshold (power)\",ylab=\"Mean Connectivity\", type=\"n\",\n",
    "main = paste(\"Mean connectivity\"))\n",
    "text(sft$fitIndices[,1], sft$fitIndices[,5], labels=powers, cex=cex1,col=\"red\")\n",
    "dev.off()"
   ]
  },
  {
   "cell_type": "code",
   "execution_count": 32,
   "metadata": {
    "vscode": {
     "languageId": "r"
    }
   },
   "outputs": [
    {
     "name": "stdout",
     "output_type": "stream",
     "text": [
      " Calculating module eigengenes block-wise from all genes\n"
     ]
    },
    {
     "name": "stdout",
     "output_type": "stream",
     "text": [
      "   Flagging genes and samples with too many missing values...\n",
      "    ..step 1\n",
      " ..Working on block 1 .\n",
      "    TOM calculation: adjacency..\n",
      "    ..will use 12 parallel threads.\n",
      "     Fraction of slow calculations: 0.000000\n",
      "    ..connectivity..\n",
      "    ..matrix multiplication (system BLAS)..\n",
      "    ..normalization..\n",
      "    ..done.\n",
      "   ..saving TOM for block 1 into file wgcna-block.1.RData\n",
      " ....clustering..\n",
      " ....detecting modules..\n",
      " No modules detected in block 1\n",
      " ..merging modules that are too close..\n",
      "     mergeCloseModules: Merging modules whose distance is less than 0.999999\n"
     ]
    },
    {
     "name": "stderr",
     "output_type": "stream",
     "text": [
      "Warning message in blockwiseModules(datExpr, power = 20, TOMType = \"unsigned\", minModuleSize = 5, :\n",
      "“blockwiseModules: mergeCloseModules failed with the following error message:\n",
      "     Error in mergeCloseModules(datExpr, colors[gsg$goodGenes], cutHeight = mergeCutHeight,  : \n",
      "  Error in moduleEigengenes(expr = exprData[[set]]$data, colors = setColors,  : \n",
      "  Color levels are empty. Possible reason: the only color is grey and grey module is excluded from the calculation.\n",
      "\n",
      " \n",
      "--> returning unmerged colors.\n",
      "”\n"
     ]
    }
   ],
   "source": [
    "net = blockwiseModules(datExpr, power = 20,\n",
    "TOMType = \"unsigned\", minModuleSize = 5,\n",
    "reassignThreshold = 0, mergeCutHeight = 0.999999,\n",
    "numericLabels = TRUE, pamRespectsDendro = FALSE,\n",
    "saveTOMs = TRUE,\n",
    "saveTOMFileBase = \"wgcna\",\n",
    "verbose = 3)"
   ]
  },
  {
   "cell_type": "code",
   "execution_count": 33,
   "metadata": {
    "vscode": {
     "languageId": "r"
    }
   },
   "outputs": [
    {
     "data": {
      "text/html": [
       "<strong>png:</strong> 2"
      ],
      "text/latex": [
       "\\textbf{png:} 2"
      ],
      "text/markdown": [
       "**png:** 2"
      ],
      "text/plain": [
       "png \n",
       "  2 "
      ]
     },
     "metadata": {},
     "output_type": "display_data"
    }
   ],
   "source": [
    "# open a graphics window\n",
    "sizeGrWindow(12, 9)\n",
    "pdf(\"netdendograms.pdf\")\n",
    "# Convert labels to colors for plotting\n",
    "mergedColors = labels2colors(net$colors)\n",
    "# Plot the dendrogram and the module colors underneath\n",
    "plotDendroAndColors(net$dendrograms[[1]], mergedColors[net$blockGenes[[1]]],\n",
    "\"Module colors\",\n",
    "dendroLabels = FALSE, hang = 0.03,\n",
    "addGuide = TRUE, guideHang = 0.05)\n",
    "dev.off()"
   ]
  },
  {
   "cell_type": "code",
   "execution_count": 34,
   "metadata": {
    "vscode": {
     "languageId": "r"
    }
   },
   "outputs": [],
   "source": [
    "moduleLabels = net$colors\n",
    "moduleColors = labels2colors(net$colors)\n",
    "MEs = net$MEs;\n",
    "geneTree = net$dendrograms[[1]];"
   ]
  },
  {
   "cell_type": "markdown",
   "metadata": {},
   "source": [
    "## 3"
   ]
  },
  {
   "cell_type": "code",
   "execution_count": 35,
   "metadata": {
    "vscode": {
     "languageId": "r"
    }
   },
   "outputs": [],
   "source": [
    "datTraits$Biomaterial <- match(datTraits$Biomaterial, unique(datTraits$Biomaterial))\n",
    "datTraits$Celltype <- match(datTraits$Celltype, unique(datTraits$Celltype))"
   ]
  },
  {
   "cell_type": "code",
   "execution_count": 36,
   "metadata": {
    "vscode": {
     "languageId": "r"
    }
   },
   "outputs": [],
   "source": [
    "# Define numbers of genes and samples\n",
    "nGenes = ncol(datExpr);\n",
    "nSamples = nrow(datExpr);\n",
    "# Recalculate MEs with color labels\n",
    "MEs0 = moduleEigengenes(datExpr, moduleColors)$eigengenes\n",
    "MEs = orderMEs(MEs0)\n",
    "moduleTraitCor = cor(MEs, datTraits, use = \"p\");\n",
    "moduleTraitPvalue = corPvalueStudent(moduleTraitCor, nSamples);"
   ]
  },
  {
   "cell_type": "code",
   "execution_count": 37,
   "metadata": {
    "vscode": {
     "languageId": "r"
    }
   },
   "outputs": [
    {
     "data": {
      "text/html": [
       "<strong>pdf:</strong> 2"
      ],
      "text/latex": [
       "\\textbf{pdf:} 2"
      ],
      "text/markdown": [
       "**pdf:** 2"
      ],
      "text/plain": [
       "pdf \n",
       "  2 "
      ]
     },
     "metadata": {},
     "output_type": "display_data"
    }
   ],
   "source": [
    "pdf(\"moduleTrait.pdf\", width=9, height=18)\n",
    "# Will display correlations and their p-values\n",
    "textMatrix = paste(signif(moduleTraitCor, 2), \"\\n(\",\n",
    "signif(moduleTraitPvalue, 1), \")\", sep = \"\");\n",
    "dim(textMatrix) = dim(moduleTraitCor)\n",
    "par(mar = c(6, 8.5, 3, 3));\n",
    "# Display the correlation values within a heatmap plot\n",
    "labeledHeatmap(Matrix = moduleTraitCor,\n",
    "xLabels = labels,\n",
    "yLabels = names(MEs),\n",
    "ySymbols = names(MEs),\n",
    "colorLabels = FALSE,\n",
    "colors = blueWhiteRed(50),\n",
    "textMatrix = textMatrix,\n",
    "setStdMargins = FALSE,\n",
    "cex.text = 0.5,\n",
    "zlim = c(-1,1),\n",
    "main = paste(\"Module-trait relationships\"))\n",
    "dev.off()"
   ]
  },
  {
   "cell_type": "code",
   "execution_count": 38,
   "metadata": {
    "vscode": {
     "languageId": "r"
    }
   },
   "outputs": [
    {
     "name": "stderr",
     "output_type": "stream",
     "text": [
      "Warning message in storage.mode(y) <- \"double\":\n",
      "“NAs introduced by coercion”\n"
     ]
    }
   ],
   "source": [
    "# Define variable weight containing the weight column of datTrait\n",
    "weight = as.data.frame(rownames(datTraits));\n",
    "names(weight) = \"weight\"\n",
    "# names (colors) of the modules\n",
    "modNames = substring(names(MEs), 3)\n",
    "geneModuleMembership = as.data.frame(cor(datExpr, MEs, use = \"p\"));\n",
    "MMPvalue = as.data.frame(corPvalueStudent(as.matrix(geneModuleMembership), nSamples));\n",
    "names(geneModuleMembership) = paste(\"MM\", modNames, sep=\"\");\n",
    "names(MMPvalue) = paste(\"p.MM\", modNames, sep=\"\");\n",
    "geneTraitSignificance = as.data.frame(cor(datExpr, weight, use = \"p\"));\n",
    "GSPvalue = as.data.frame(corPvalueStudent(as.matrix(geneTraitSignificance), nSamples));\n",
    "names(geneTraitSignificance) = paste(\"GS.\", names(weight), sep=\"\");\n",
    "names(GSPvalue) = paste(\"p.GS.\", names(weight), sep=\"\");"
   ]
  },
  {
   "cell_type": "code",
   "execution_count": 40,
   "metadata": {
    "vscode": {
     "languageId": "r"
    }
   },
   "outputs": [
    {
     "name": "stderr",
     "output_type": "stream",
     "text": [
      "Warning message in sqrt(nSamples - 2):\n",
      "“NaNs produced”\n",
      "Warning message in min(x):\n",
      "“no non-missing arguments to min; returning Inf”\n",
      "Warning message in max(x):\n",
      "“no non-missing arguments to max; returning -Inf”\n"
     ]
    },
    {
     "ename": "ERROR",
     "evalue": "Error in plot.window(...): need finite 'ylim' values\n",
     "output_type": "error",
     "traceback": [
      "Error in plot.window(...): need finite 'ylim' values\nTraceback:\n",
      "1. plot(x[order1], y[order1], main = mainX, xlab = xlab, ylab = ylab, \n .     cex.axis = cex.axis, cex.lab = cex.lab, cex.main = cex.main, \n .     col = col[order1], bg = bg[order1], pch = pch[order1], cex = cex[order1], \n .     ...)",
      "2. plot.default(x[order1], y[order1], main = mainX, xlab = xlab, \n .     ylab = ylab, cex.axis = cex.axis, cex.lab = cex.lab, cex.main = cex.main, \n .     col = col[order1], bg = bg[order1], pch = pch[order1], cex = cex[order1], \n .     ...)",
      "3. localWindow(xlim, ylim, log, asp, ...)",
      "4. plot.window(...)",
      "5. .handleSimpleError(function (cnd) \n . {\n .     watcher$capture_plot_and_output()\n .     cnd <- sanitize_call(cnd)\n .     watcher$push(cnd)\n .     switch(on_error, continue = invokeRestart(\"eval_continue\"), \n .         stop = invokeRestart(\"eval_stop\"), error = invokeRestart(\"eval_error\", \n .             cnd))\n . }, \"need finite 'ylim' values\", base::quote(plot.window(...)))"
     ]
    }
   ],
   "source": [
    "module = \"gray\"\n",
    "column = match(module, modNames);\n",
    "moduleGenes = moduleColors==module;\n",
    "sizeGrWindow(7, 7);\n",
    "pdf(\"modulemembership.pdf\")\n",
    "par(mfrow = c(1,1));\n",
    "verboseScatterplot(abs(geneModuleMembership[moduleGenes, column]),\n",
    "    abs(geneTraitSignificance[moduleGenes, 1]),\n",
    "    xlab = paste(\"Module Membership in\", module, \"module\"),\n",
    "    ylab = \"Gene significance for primary_site\",\n",
    "    main = paste(\"Module membership vs. gene significance\\n\"),\n",
    "    cex.main = 1.2, cex.lab = 1.2, cex.axis = 1.2, col = module)\n",
    "dev.off()"
   ]
  },
  {
   "cell_type": "code",
   "execution_count": 41,
   "metadata": {
    "vscode": {
     "languageId": "r"
    }
   },
   "outputs": [
    {
     "name": "stderr",
     "output_type": "stream",
     "text": [
      "Warning message in storage.mode(y) <- \"double\":\n",
      "“NAs introduced by coercion”\n"
     ]
    }
   ],
   "source": [
    "# Create the starting data frame\n",
    "geneInfo0 = data.frame(\n",
    "moduleColor = moduleColors,\n",
    "geneTraitSignificance,\n",
    "GSPvalue)\n",
    "# Order modules by their significance for weight\n",
    "modOrder = order(-abs(cor(MEs, weight, use = \"p\")));\n",
    "# Add module membership information in the chosen order\n",
    "for (mod in 1:ncol(geneModuleMembership))\n",
    "{\n",
    "oldNames = names(geneInfo0)\n",
    "geneInfo0 = data.frame(geneInfo0, geneModuleMembership[, modOrder[mod]],\n",
    "MMPvalue[, modOrder[mod]]);\n",
    "names(geneInfo0) = c(oldNames, paste(\"MM.\", modNames[modOrder[mod]], sep=\"\"),\n",
    "paste(\"p.MM.\", modNames[modOrder[mod]], sep=\"\"))\n",
    "}\n",
    "# Order the genes in the geneInfo variable first by module color, then by geneTraitSignificance\n",
    "geneOrder = order(geneInfo0$moduleColor, -abs(geneInfo0$GS.weight));\n",
    "geneInfo = geneInfo0[geneOrder, ]\n",
    "write.csv(geneInfo, file = \"geneInfo.csv\")"
   ]
  },
  {
   "cell_type": "markdown",
   "metadata": {},
   "source": [
    "## 5 "
   ]
  },
  {
   "cell_type": "code",
   "execution_count": 42,
   "metadata": {
    "vscode": {
     "languageId": "r"
    }
   },
   "outputs": [
    {
     "data": {
      "text/html": [
       "<strong>pdf:</strong> 2"
      ],
      "text/latex": [
       "\\textbf{pdf:} 2"
      ],
      "text/markdown": [
       "**pdf:** 2"
      ],
      "text/plain": [
       "pdf \n",
       "  2 "
      ]
     },
     "metadata": {},
     "output_type": "display_data"
    }
   ],
   "source": [
    "# Re-cluster samples\n",
    "sampleTree3 = hclust(dist(MEs0), method = \"average\")\n",
    "# Convert traits to a color representation: white means low, red means high, grey means missing entry\n",
    "traitColors = labels2colors(datTraits);\n",
    "# Plot the sample dendrogram and the colors underneath.\n",
    "pdf(\"nethier.pdf\", width=10)\n",
    "# Set the plot margin: bottom, left, top & right\n",
    "par(mar = c(5, 4, 1.4, 0.2) + 0.1,\n",
    "    xpd = NA) # allow content to go into outer margin \n",
    "plotDendroAndColors(sampleTree3, traitColors,\n",
    "groupLabels = labels,\n",
    "main = \"Network dendrogram and trait heatmap\",\n",
    "dendroLabels=FALSE,\n",
    "#rowText=allTraits[keepSamples,labels],\n",
    "#rowTextIgnore=labels[[2]],\n",
    "addGuide=TRUE)\n",
    "dev.off()"
   ]
  },
  {
   "cell_type": "code",
   "execution_count": 43,
   "metadata": {
    "vscode": {
     "languageId": "r"
    }
   },
   "outputs": [
    {
     "data": {
      "text/html": [
       "<style>\n",
       ".list-inline {list-style: none; margin:0; padding: 0}\n",
       ".list-inline>li {display: inline-block}\n",
       ".list-inline>li:not(:last-child)::after {content: \"\\00b7\"; padding: 0 .5ex}\n",
       "</style>\n",
       "<ol class=list-inline><li>'AdultCerebellum'</li><li>'AdultHeart'</li><li>'AdultLiver'</li><li>'AdultLung'</li></ol>\n"
      ],
      "text/latex": [
       "\\begin{enumerate*}\n",
       "\\item 'AdultCerebellum'\n",
       "\\item 'AdultHeart'\n",
       "\\item 'AdultLiver'\n",
       "\\item 'AdultLung'\n",
       "\\end{enumerate*}\n"
      ],
      "text/markdown": [
       "1. 'AdultCerebellum'\n",
       "2. 'AdultHeart'\n",
       "3. 'AdultLiver'\n",
       "4. 'AdultLung'\n",
       "\n",
       "\n"
      ],
      "text/plain": [
       "[1] \"AdultCerebellum\" \"AdultHeart\"      \"AdultLiver\"      \"AdultLung\"      "
      ]
     },
     "metadata": {},
     "output_type": "display_data"
    }
   ],
   "source": [
    "rownames(allTraits)=allTraits$Cell_id\n",
    "unique(allTraits[rownames(datTraits),'Biomaterial'])"
   ]
  },
  {
   "cell_type": "code",
   "execution_count": 44,
   "metadata": {
    "vscode": {
     "languageId": "r"
    }
   },
   "outputs": [
    {
     "name": "stderr",
     "output_type": "stream",
     "text": [
      "Warning message in par(fig = c(0, 1, 0, 1), oma = c(0, 0, 0, 0), mar = c(0, 0, 0, :\n",
      "“calling par(new=TRUE) with no plot”\n"
     ]
    },
    {
     "data": {
      "text/html": [
       "<strong>pdf:</strong> 2"
      ],
      "text/latex": [
       "\\textbf{pdf:} 2"
      ],
      "text/markdown": [
       "**pdf:** 2"
      ],
      "text/plain": [
       "pdf \n",
       "  2 "
      ]
     },
     "metadata": {},
     "output_type": "display_data"
    }
   ],
   "source": [
    "svg(\"nethier_legend.svg\", width=10)\n",
    "add_legend(\"topleft\", legend = unique(allTraits[rownames(datTraits),'Biomaterial']), pch = 1, pt.cex = 1, cex = 1.5, bty = 'n', ncol=2,\n",
    "       inset = c(0.1, 0.), # place outside\n",
    "       title = \"Biomaterial\", \n",
    "       col = traitColors)\n",
    "dev.off()"
   ]
  },
  {
   "cell_type": "code",
   "execution_count": 45,
   "metadata": {
    "vscode": {
     "languageId": "r"
    }
   },
   "outputs": [],
   "source": [
    "collectGarbage()"
   ]
  },
  {
   "cell_type": "code",
   "execution_count": 47,
   "metadata": {
    "vscode": {
     "languageId": "r"
    }
   },
   "outputs": [
    {
     "data": {
      "text/plain": [
       "clust\n",
       "  0   1   2   3   4   5   6   7   8   9  10  11  12  13  14  15 \n",
       " 12 509 345 291 211 121  87  81  59  52  48  40  29  22  18  11 "
      ]
     },
     "metadata": {},
     "output_type": "display_data"
    }
   ],
   "source": [
    "clust = cutreeStatic(sampleTree3, cutHeight = 0.005, minSize = 10)\n",
    "table(clust)"
   ]
  },
  {
   "cell_type": "code",
   "execution_count": 48,
   "metadata": {
    "vscode": {
     "languageId": "r"
    }
   },
   "outputs": [
    {
     "data": {
      "text/html": [
       "<strong>pdf:</strong> 2"
      ],
      "text/latex": [
       "\\textbf{pdf:} 2"
      ],
      "text/markdown": [
       "**pdf:** 2"
      ],
      "text/plain": [
       "pdf \n",
       "  2 "
      ]
     },
     "metadata": {},
     "output_type": "display_data"
    }
   ],
   "source": [
    "# Re-cluster samples after cut\n",
    "sampleTree4 = hclust(dist(MEs0[(clust==1),]), method = \"average\")\n",
    "# Convert traits to a color representation: white means low, red means high, grey means missing entry\n",
    "traitColors = labels2colors(datTraits[(clust==1),]);\n",
    "# Plot the sample dendrogram and the colors underneath.\n",
    "svg(\"nethiercut.svg\")\n",
    "plotDendroAndColors(sampleTree4, traitColors,\n",
    "groupLabels = labels,\n",
    "main = \"Network dendrogram and trait heatmap\",\n",
    "dendroLabels=FALSE)\n",
    "dev.off()"
   ]
  },
  {
   "cell_type": "code",
   "execution_count": 49,
   "metadata": {
    "vscode": {
     "languageId": "r"
    }
   },
   "outputs": [
    {
     "name": "stdout",
     "output_type": "stream",
     "text": [
      "TOM calculation: adjacency..\n",
      "..will use 12 parallel threads.\n",
      " Fraction of slow calculations: 0.000000\n",
      "..connectivity..\n",
      "..matrix multiplication (system BLAS)..\n",
      "..normalization..\n",
      "..done.\n"
     ]
    },
    {
     "data": {
      "text/html": [
       "<strong>png:</strong> 2"
      ],
      "text/latex": [
       "\\textbf{png:} 2"
      ],
      "text/markdown": [
       "**png:** 2"
      ],
      "text/plain": [
       "png \n",
       "  2 "
      ]
     },
     "metadata": {},
     "output_type": "display_data"
    }
   ],
   "source": [
    "# Calculate topological overlap anew: this could be done more efficiently by saving the TOM\n",
    "# calculated during module detection, but let us do it again here.\n",
    "dissTOM = 1-TOMsimilarityFromExpr(datExpr, power = 6);\n",
    "# Transform dissTOM with a power to make moderately strong connections more visible in the heatmap\n",
    "plotTOM = dissTOM^7;\n",
    "# Set diagonal to NA for a nicer plot\n",
    "diag(plotTOM) = NA;\n",
    "# Call the plot function\n",
    "sizeGrWindow(9,9)\n",
    "svg(\"networkmap.svg\")\n",
    "TOMplot(plotTOM, geneTree, moduleColors, main = \"Network heatmap plot, all genes\")\n",
    "dev.off()"
   ]
  },
  {
   "cell_type": "code",
   "execution_count": 50,
   "metadata": {
    "vscode": {
     "languageId": "r"
    }
   },
   "outputs": [
    {
     "data": {
      "text/html": [
       "<strong>png:</strong> 2"
      ],
      "text/latex": [
       "\\textbf{png:} 2"
      ],
      "text/markdown": [
       "**png:** 2"
      ],
      "text/plain": [
       "png \n",
       "  2 "
      ]
     },
     "metadata": {},
     "output_type": "display_data"
    }
   ],
   "source": [
    "#selct genes to be faster\n",
    "nSelect = nGenes*0.7\n",
    "# For reproducibility, we set the random seed\n",
    "set.seed(10);\n",
    "select = sample(nGenes, size = nSelect);\n",
    "selectTOM = dissTOM[select, select];\n",
    "# There’s no simple way of restricting a clustering tree to a subset of genes, so we must re-cluster.\n",
    "selectTree = hclust(as.dist(selectTOM), method = \"average\")\n",
    "selectColors = moduleColors[select];\n",
    "# Open a graphical window\n",
    "sizeGrWindow(9,9)\n",
    "svg(\"networkmap.svg\")\n",
    "# Taking the dissimilarity to a power, say 10, makes the plot more informative by effectively changing\n",
    "# the color palette; setting the diagonal to NA also improves the clarity of the plot\n",
    "plotDiss = selectTOM^7;\n",
    "diag(plotDiss) = NA;\n",
    "TOMplot(plotDiss, selectTree, selectColors, main = \"Network heatmap plot, selected genes\")\n",
    "dev.off()"
   ]
  },
  {
   "cell_type": "code",
   "execution_count": 51,
   "metadata": {
    "vscode": {
     "languageId": "r"
    }
   },
   "outputs": [
    {
     "ename": "ERROR",
     "evalue": "Error in multiME[[set]]$data[substring(labels, 3) != greyLabel, substring(labels, : incorrect number of dimensions\n",
     "output_type": "error",
     "traceback": [
      "Error in multiME[[set]]$data[substring(labels, 3) != greyLabel, substring(labels, : incorrect number of dimensions\nTraceback:\n",
      "1. cor(multiME[[set]]$data[substring(labels, 3) != greyLabel, substring(labels, \n .     3) != greyLabel], use = \"p\")",
      "2. as.matrix(x)",
      "3. .handleSimpleError(function (cnd) \n . {\n .     watcher$capture_plot_and_output()\n .     cnd <- sanitize_call(cnd)\n .     watcher$push(cnd)\n .     switch(on_error, continue = invokeRestart(\"eval_continue\"), \n .         stop = invokeRestart(\"eval_stop\"), error = invokeRestart(\"eval_error\", \n .             cnd))\n . }, \"incorrect number of dimensions\", base::quote(multiME[[set]]$data[substring(labels, \n .     3) != greyLabel, substring(labels, 3) != greyLabel]))"
     ]
    }
   ],
   "source": [
    "# Recalculate module eigengenes\n",
    "MEs = moduleEigengenes(datExpr, moduleColors)$eigengenes\n",
    "# Isolate weight from the clinical traits\n",
    "weight = as.data.frame(datTraits$Biomaterial);\n",
    "names(weight) = \"Biomaterial\"\n",
    "# Add the weight to existing module eigengenes\n",
    "MET = orderMEs(cbind(MEs, weight))\n",
    "# Plot the relationships among the eigengenes and the trait\n",
    "sizeGrWindow(5,7.5);\n",
    "svg(\"eigenHeat.svg\")\n",
    "par(cex = 0.9)\n",
    "plotEigengeneNetworks(MET, \"\", marDendro = c(0,4,1,2), marHeatmap = c(3,4,1,2), cex.lab = 0.8, xLabelsAngle = 90)\n",
    "dev.off()"
   ]
  },
  {
   "cell_type": "code",
   "execution_count": 52,
   "metadata": {
    "vscode": {
     "languageId": "r"
    }
   },
   "outputs": [
    {
     "ename": "ERROR",
     "evalue": "Error in multiME[[set]]$data[substring(labels, 3) != greyLabel, substring(labels, : incorrect number of dimensions\n",
     "output_type": "error",
     "traceback": [
      "Error in multiME[[set]]$data[substring(labels, 3) != greyLabel, substring(labels, : incorrect number of dimensions\nTraceback:\n",
      "1. cor(multiME[[set]]$data[substring(labels, 3) != greyLabel, substring(labels, \n .     3) != greyLabel], use = \"p\")",
      "2. as.matrix(x)",
      "3. .handleSimpleError(function (cnd) \n . {\n .     watcher$capture_plot_and_output()\n .     cnd <- sanitize_call(cnd)\n .     watcher$push(cnd)\n .     switch(on_error, continue = invokeRestart(\"eval_continue\"), \n .         stop = invokeRestart(\"eval_stop\"), error = invokeRestart(\"eval_error\", \n .             cnd))\n . }, \"incorrect number of dimensions\", base::quote(multiME[[set]]$data[substring(labels, \n .     3) != greyLabel, substring(labels, 3) != greyLabel]))"
     ]
    }
   ],
   "source": [
    "# Plot the dendrogram\n",
    "sizeGrWindow(6,6);\n",
    "svg(\"eigendendogram.svg\")\n",
    "par(cex = 1.0)\n",
    "plotEigengeneNetworks(MET, \"Eigengene dendrogram\", marDendro = c(0,4,2,0),\n",
    "plotHeatmaps = FALSE)\n",
    "# Plot the heatmap matrix (note: this plot will overwrite the dendrogram plot)\n",
    "par(cex = 1.0)\n",
    "plotEigengeneNetworks(MET, \"Eigengene adjacency heatmap\", marHeatmap = c(3,4,2,2),\n",
    "plotDendrograms = FALSE, xLabelsAngle = 90)\n",
    "dev.off()"
   ]
  },
  {
   "cell_type": "markdown",
   "metadata": {},
   "source": [
    "Values of *k* must be read from *clustersizes.txt file*"
   ]
  },
  {
   "cell_type": "code",
   "execution_count": 61,
   "metadata": {
    "vscode": {
     "languageId": "r"
    }
   },
   "outputs": [],
   "source": [
    "write.csv(cutree(sampleTree3, k=4), \"wgcna/wgcna_level_0_labels.csv\")"
   ]
  },
  {
   "cell_type": "code",
   "execution_count": 56,
   "metadata": {
    "vscode": {
     "languageId": "r"
    }
   },
   "outputs": [],
   "source": [
    "write.csv(geneModuleMembership, \"wgcna/wgcna_level_0_word-dist.csv\")"
   ]
  },
  {
   "cell_type": "code",
   "execution_count": 57,
   "metadata": {
    "vscode": {
     "languageId": "r"
    }
   },
   "outputs": [],
   "source": [
    "write.csv(MEs, \"wgcna/wgcna_level_0_topic-dist.csv\")"
   ]
  },
  {
   "cell_type": "code",
   "execution_count": null,
   "metadata": {
    "vscode": {
     "languageId": "r"
    }
   },
   "outputs": [],
   "source": []
  }
 ],
 "metadata": {
  "kernelspec": {
   "display_name": "R",
   "language": "R",
   "name": "ir"
  },
  "language_info": {
   "codemirror_mode": "r",
   "file_extension": ".r",
   "mimetype": "text/x-r-source",
   "name": "R",
   "pygments_lexer": "r",
   "version": "4.2.2"
  }
 },
 "nbformat": 4,
 "nbformat_minor": 4
}
