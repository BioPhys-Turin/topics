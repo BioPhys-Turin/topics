{
 "cells": [
  {
   "cell_type": "code",
   "execution_count": 35,
   "metadata": {},
   "outputs": [
    {
     "name": "stdout",
     "output_type": "stream",
     "text": [
      "The watermark extension is already loaded. To reload it, use:\n",
      "  %reload_ext watermark\n",
      "Author: Filippo_Valle\n",
      "\n",
      "Last updated: Wed Oct 19 2022\n",
      "\n",
      "Python implementation: CPython\n",
      "Python version       : 3.9.7\n",
      "IPython version      : 8.5.0\n",
      "\n",
      "pandas : 1.1.5\n",
      "topicpy: 0.2.0\n",
      "plotly : 5.10.0\n",
      "\n",
      "Compiler    : GCC 9.4.0\n",
      "OS          : Linux\n",
      "Release     : 5.19.0-21-generic\n",
      "Machine     : x86_64\n",
      "Processor   : x86_64\n",
      "CPU cores   : 12\n",
      "Architecture: 64bit\n",
      "\n",
      "Git hash: 6af288ff4fa34a7f9f04237fa48bed0dbc8ec340\n",
      "\n",
      "Git repo: git@github.com:fvalle1/topics.git\n",
      "\n",
      "Git branch: HEAD\n",
      "\n",
      "Watermark: 2.3.1\n",
      "\n"
     ]
    }
   ],
   "source": [
    "%load_ext watermark\n",
    "%watermark -v -m  -u -n -p pandas,topicpy,plotly -a Filippo_Valle -g -r -b -w"
   ]
  },
  {
   "cell_type": "code",
   "execution_count": null,
   "metadata": {},
   "outputs": [],
   "source": [
    "from topicpy.hsbmpy import get_scores\n",
    "import pandas as pd\n",
    "import plotly.graph_objects as go\n",
    "import os"
   ]
  },
  {
   "cell_type": "code",
   "execution_count": null,
   "metadata": {},
   "outputs": [],
   "source": [
    "labels = [\"SMTS\"]\n",
    "alorithms = [\"topsbm\", \"lda\", \"tm\", \"wgcna\", \"hierarchical-log\"]"
   ]
  },
  {
   "cell_type": "code",
   "execution_count": null,
   "metadata": {},
   "outputs": [],
   "source": [
    "data = {}\n",
    "for stat in range(0,10):\n",
    "    name=f\"random{stat}{stat}\"\n",
    "    working_dir = name\n",
    "    df_files = pd.read_csv(f\"{working_dir}/files.dat\", index_col=0)\n",
    "    for alg in alorithms:\n",
    "        if alg not in data.keys():\n",
    "            data[alg]=[]\n",
    "        scores = get_scores(working_dir, labels, df_files=df_files, algorithm = alg, verbose=False)\n",
    "        data[alg].append(scores[labels[0]][\"V\"])"
   ]
  },
  {
   "cell_type": "code",
   "execution_count": null,
   "metadata": {},
   "outputs": [],
   "source": [
    "fig = go.Figure()\n",
    "\n",
    "for alg in alorithms:\n",
    "    fig.add_trace(go.Box(y = list(map(max,data[alg])), name=alg))\n",
    "\n",
    "adict = {\"tickfont_size\":20}\n",
    "fig.update_layout({\"xaxis\":adict, \"yaxis\":adict, \"width\":800})\n",
    "fig.show()\n",
    "fig.write_image(\"random_scores.pdf\")"
   ]
  },
  {
   "cell_type": "code",
   "execution_count": null,
   "metadata": {},
   "outputs": [],
   "source": []
  }
 ],
 "metadata": {
  "kernelspec": {
   "display_name": "Python 3.9.7 ('base')",
   "language": "python",
   "name": "python3"
  },
  "language_info": {
   "codemirror_mode": {
    "name": "ipython",
    "version": 3
   },
   "file_extension": ".py",
   "mimetype": "text/x-python",
   "name": "python",
   "nbconvert_exporter": "python",
   "pygments_lexer": "ipython3",
   "version": "3.9.7"
  },
  "orig_nbformat": 4,
  "vscode": {
   "interpreter": {
    "hash": "d4d1e4263499bec80672ea0156c357c1ee493ec2b1c70f0acce89fc37c4a6abe"
   }
  }
 },
 "nbformat": 4,
 "nbformat_minor": 2
}
